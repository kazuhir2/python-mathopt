{
 "metadata": {
  "name": "",
  "signature": "sha256:76281d8a4ccd0d3cb375537c3e71d58306c26965fdfcfda4519beb9a775ab424"
 },
 "nbformat": 3,
 "nbformat_minor": 0,
 "worksheets": [
  {
   "cells": [
    {
     "cell_type": "heading",
     "level": 1,
     "metadata": {},
     "source": [
      "PuLP\u3068Picos\u306b\u3088\u308b\u6570\u7406\u6700\u9069\u5316\n"
     ]
    },
    {
     "cell_type": "heading",
     "level": 1,
     "metadata": {},
     "source": [
      "PuLP\u3068\u306f"
     ]
    },
    {
     "cell_type": "markdown",
     "metadata": {},
     "source": [
      "\u6a5f\u80fd : \u3000LP\u306e\u30e2\u30c7\u30ea\u30f3\u30b0\u30c4\u30fc\u30eb"
     ]
    },
    {
     "cell_type": "markdown",
     "metadata": {},
     "source": [
      "\u5b88\u5099\u7bc4\u56f2 : LP\u3068IP \u6574\u6570\u5909\u6570\u3082\u6271\u3046\u3053\u3068\u304c\u3067\u304d\u307e\u3059\uff0e\n",
      "\u30c9\u30ad\u30e5\u30e1\u30f3\u30c8\u306f[HP](http://packages.python.org/PuLP/)\u304b\u3089\u5165\u624b\u53ef\u80fd\uff0e\u3053\u306e\u30c9\u30ad\u30e5\u30e1\u30f3\u30c8\u304b\u3089\u306e\u5f15\u7528\u3092\u591a\u304f\u4f7f\u7528\u3057\u307e\u3059\uff0e"
     ]
    },
    {
     "cell_type": "markdown",
     "metadata": {},
     "source": [
      "\u30bd\u30eb\u30d0\u306f\u5225\u9014\u7528\u610f\u3059\u308b\u5fc5\u8981\u304c\u3042\u308a\u307e\u3059\uff0e\u4eca\u56de\u306fCBC\u3092\u4f7f\u7528\u3057\u307e\u3059\uff0e\u79c1\u304c\u8abf\u3079\u305f\u7bc4\u56f2\u3067\u306f\u3001GLPK\u3092\u4f7f\u3046\u3068\u3001LP\u306e\u53cc\u5bfe\u5909\u6570\u306e\u5024\u3092\u53d6\u5f97\u3059\u308b\u3053\u3068\u304c\u3067\u304d\u307e\u305b\u3093\u3002\u3053\u3053\u3067\u306f\u5f8c\u307b\u3069\u53cc\u5bfe\u5909\u6570\u306e\u5024\u3092\u7528\u3044\u308b\u5834\u9762\u304c\u3042\u308a\u307e\u3059\u304c\u3001\u305d\u306e\u90e8\u5206\u306fGLPK\u3067\u306f\u5b9f\u884c\u3059\u308b\u3053\u3068\u304c\u3067\u304d\u306a\u3044\u3053\u3068\u306b\u7559\u610f\u304f\u3060\u3055\u3044\u3002"
     ]
    },
    {
     "cell_type": "heading",
     "level": 2,
     "metadata": {},
     "source": [
      "\u7dda\u5f62\u8a08\u753b\u554f\u984c\u306e\u5b9a\u7fa9"
     ]
    },
    {
     "cell_type": "markdown",
     "metadata": {},
     "source": [
      "\u6b21\u306e\u7dda\u5f62\u8a08\u753b\u554f\u984c\u3092PuLP\u3067\u5b9a\u7fa9\u3057\u307e\u3059\uff0e"
     ]
    },
    {
     "cell_type": "markdown",
     "metadata": {},
     "source": [
      "(\u753b\u50cf\u8868\u793a\u6e96\u5099)"
     ]
    },
    {
     "cell_type": "code",
     "collapsed": false,
     "input": [
      "from IPython.display import Image\n",
      "fig = Image(url='http://mathopt.sakura.ne.jp/LP.png')\n",
      "fig "
     ],
     "language": "python",
     "metadata": {},
     "outputs": [
      {
       "html": [
        "<img src=\"http://mathopt.sakura.ne.jp/LP.png\"/>"
       ],
       "metadata": {},
       "output_type": "pyout",
       "prompt_number": 10,
       "text": [
        "<IPython.core.display.Image at 0x105e42d90>"
       ]
      }
     ],
     "prompt_number": 10
    },
    {
     "cell_type": "heading",
     "level": 2,
     "metadata": {},
     "source": [
      "\u4f7f\u3046\u6e96\u5099 : import\u3059\u308b"
     ]
    },
    {
     "cell_type": "code",
     "collapsed": false,
     "input": [
      "import pulp"
     ],
     "language": "python",
     "metadata": {},
     "outputs": [],
     "prompt_number": 11
    },
    {
     "cell_type": "heading",
     "level": 2,
     "metadata": {},
     "source": [
      "\u554f\u984c\u306e\u5b9a\u7fa9 : "
     ]
    },
    {
     "cell_type": "code",
     "collapsed": false,
     "input": [
      "prob = pulp.LpProblem(\"myProblem\",pulp.LpMinimize)"
     ],
     "language": "python",
     "metadata": {},
     "outputs": [],
     "prompt_number": 12
    },
    {
     "cell_type": "markdown",
     "metadata": {},
     "source": [
      "\u6700\u5927\u5316\u306e\u3068\u304d\u306f\uff0cLpMaximize\uff0e\u751f\u6210\u3057\u305f\u554f\u984c\u306b\uff0cprob\u3068\u540d\u524d\u3092\u4ed8\u3051\u3066\u899a\u3048\u3066\u304a\u304d\u307e\u3059\u3002"
     ]
    },
    {
     "cell_type": "heading",
     "level": 2,
     "metadata": {},
     "source": [
      "\u5909\u6570\u306e\u5b9a\u7fa9 : "
     ]
    },
    {
     "cell_type": "code",
     "collapsed": false,
     "input": [
      "z1 = pulp.LpVariable(\"z1\",0,3)"
     ],
     "language": "python",
     "metadata": {},
     "outputs": [],
     "prompt_number": 13
    },
    {
     "cell_type": "markdown",
     "metadata": {},
     "source": [
      "\u4e09\u3064\u306e\u5f15\u6570\u306f\u305d\u308c\u305e\u308c\u3001\u5909\u6570\u306e\u540d\u524d\u3001\u4e0b\u9650\u5024\u3001\u4e0a\u9650\u5024\u3067\u3059\u3002"
     ]
    },
    {
     "cell_type": "code",
     "collapsed": false,
     "input": [
      "z2 = pulp.LpVariable(\"z2\",0,1)"
     ],
     "language": "python",
     "metadata": {},
     "outputs": [],
     "prompt_number": 14
    },
    {
     "cell_type": "heading",
     "level": 2,
     "metadata": {},
     "source": [
      "\u5236\u7d04\u5f0f\u306e\u5b9a\u7fa9 : "
     ]
    },
    {
     "cell_type": "code",
     "collapsed": false,
     "input": [
      "prob += z1 + z2 <= 2"
     ],
     "language": "python",
     "metadata": {},
     "outputs": [],
     "prompt_number": 15
    },
    {
     "cell_type": "markdown",
     "metadata": {},
     "source": [
      "+=\u306e\u53f3\u5074\u304c\uff08\u7dda\u5f62\uff09\u4e0d\u7b49\u5f0f\u3067\u3042\u308c\u3070\uff0c\u305d\u308c\u304c\u5236\u7d04\u5f0f\u3068\u3057\u3066prob\u306b\u8ffd\u52a0\u3055\u308c\u307e\u3059\uff0e\u7d50\u679c\u3092print\u3057\u3066\u307f\u308b\u3068\uff0c"
     ]
    },
    {
     "cell_type": "code",
     "collapsed": false,
     "input": [
      "print prob"
     ],
     "language": "python",
     "metadata": {},
     "outputs": [
      {
       "output_type": "stream",
       "stream": "stdout",
       "text": [
        "myProblem:\n",
        "MINIMIZE\n",
        "None\n",
        "SUBJECT TO\n",
        "_C1: z1 + z2 <= 2\n",
        "\n",
        "VARIABLES\n",
        "z1 <= 3 Continuous\n",
        "z2 <= 1 Continuous\n",
        "\n"
       ]
      }
     ],
     "prompt_number": 16
    },
    {
     "cell_type": "heading",
     "level": 2,
     "metadata": {},
     "source": [
      "\u76ee\u7684\u95a2\u6570\u306e\u5b9a\u7fa9 : "
     ]
    },
    {
     "cell_type": "code",
     "collapsed": false,
     "input": [
      "prob += -1*z1 - 2*z2 \n"
     ],
     "language": "python",
     "metadata": {},
     "outputs": [],
     "prompt_number": 17
    },
    {
     "cell_type": "markdown",
     "metadata": {},
     "source": [
      "\u5236\u7d04\u5f0f\u306e\u5b9a\u7fa9\u306e\u3068\u3053\u308d\u3067\u8ff0\u3079\u307e\u3057\u305f\u304c\u3001\uff0b\uff1d\u306e\u53f3\u5074\u304c\u7dda\u5f62\u4e0d\u7b49\u5f0f\u3067\u306f\u306a\u304f\u7dda\u5f62\u306e\u95a2\u6570\u3067\u3042\u308c\u3070\u3001\u305d\u308c\u306f\u76ee\u7684\u95a2\u6570\u3068\u3057\u3066\u5b9a\u7fa9\u3055\u308c\u307e\u3059\u3002"
     ]
    },
    {
     "cell_type": "code",
     "collapsed": false,
     "input": [
      "print prob"
     ],
     "language": "python",
     "metadata": {},
     "outputs": [
      {
       "output_type": "stream",
       "stream": "stdout",
       "text": [
        "myProblem:\n",
        "MINIMIZE\n",
        "-1*z1 + -2*z2 + 0\n",
        "SUBJECT TO\n",
        "_C1: z1 + z2 <= 2\n",
        "\n",
        "VARIABLES\n",
        "z1 <= 3 Continuous\n",
        "z2 <= 1 Continuous\n",
        "\n"
       ]
      }
     ],
     "prompt_number": 18
    },
    {
     "cell_type": "markdown",
     "metadata": {},
     "source": [
      "\u3067\u306f\u3001\u76ee\u7684\u95a2\u6570\u3092\u4e8c\u5ea6\u5b9a\u7fa9\u3059\u308b\u3068\u3069\u3046\u306a\u308b\u3067\u3057\u3087\u3046\u304b\uff1f\u91cd\u8907\u3057\u3066\u5b9a\u7fa9\u3059\u308b\u3068\u3001\u6700\u5f8c\u306b\u5b9a\u7fa9\u3057\u305f\u3082\u306e\u304c\u76ee\u7684\u95a2\u6570\u3068\u3057\u3066\u8a2d\u5b9a\u3055\u308c\u307e\u3059\u3002"
     ]
    },
    {
     "cell_type": "code",
     "collapsed": false,
     "input": [
      "prob+=20*z1+30*z2"
     ],
     "language": "python",
     "metadata": {},
     "outputs": [],
     "prompt_number": 19
    },
    {
     "cell_type": "code",
     "collapsed": false,
     "input": [
      "print prob"
     ],
     "language": "python",
     "metadata": {},
     "outputs": [
      {
       "output_type": "stream",
       "stream": "stdout",
       "text": [
        "myProblem:\n",
        "MINIMIZE\n",
        "20*z1 + 30*z2 + 0\n",
        "SUBJECT TO\n",
        "_C1: z1 + z2 <= 2\n",
        "\n",
        "VARIABLES\n",
        "z1 <= 3 Continuous\n",
        "z2 <= 1 Continuous\n",
        "\n"
       ]
      }
     ],
     "prompt_number": 20
    },
    {
     "cell_type": "markdown",
     "metadata": {},
     "source": [
      "\u3053\u308c\u3067\u554f\u984c\u304c\u5b9a\u7fa9\u3067\u304d\u307e\u3057\u305f"
     ]
    },
    {
     "cell_type": "code",
     "collapsed": false,
     "input": [
      "prob += -z1-2*z2"
     ],
     "language": "python",
     "metadata": {},
     "outputs": [],
     "prompt_number": 21
    },
    {
     "cell_type": "heading",
     "level": 2,
     "metadata": {},
     "source": [
      "\u89e3\u304f"
     ]
    },
    {
     "cell_type": "markdown",
     "metadata": {},
     "source": [
      "\u3053\u3046\u3057\u3066\u5b9a\u7fa9\u3057\u305f\u554f\u984cprob\u3092\u89e3\u304f\u306b\u306f\uff0csolve()\u3092\u5b9f\u884c\u3057\u307e\u3059\uff0e\u8907\u6570\u306e\u30bd\u30eb\u30d0\u304c\u5b9f\u884c\u53ef\u80fd\u306a\u74b0\u5883\u3067\u3042\u308c\u3070\uff0c\u5f15\u6570\u3092\u6307\u5b9a\u3059\u308b\u3053\u3068\u3067\uff0c\u4f7f\u7528\u3059\u308b\u30bd\u30eb\u30d0\u3092\u6307\u5b9a\u3067\u304d\u307e\u3059\uff0e"
     ]
    },
    {
     "cell_type": "code",
     "collapsed": false,
     "input": [
      "status = prob.solve()"
     ],
     "language": "python",
     "metadata": {},
     "outputs": [],
     "prompt_number": 22
    },
    {
     "cell_type": "markdown",
     "metadata": {},
     "source": [
      "\u5b9f\u884c\u7d50\u679c\u306e\u72b6\u614b\u306f\u3001LpStatus[status]\u3067\u53d6\u5f97\u3057\u307e\u3059\u3002"
     ]
    },
    {
     "cell_type": "code",
     "collapsed": false,
     "input": [
      "print pulp.LpStatus[status]"
     ],
     "language": "python",
     "metadata": {},
     "outputs": [
      {
       "output_type": "stream",
       "stream": "stdout",
       "text": [
        "Optimal\n"
       ]
      }
     ],
     "prompt_number": 23
    },
    {
     "cell_type": "markdown",
     "metadata": {},
     "source": [
      "\u6700\u9069\u5024\u3092\u5f97\u308b\u306b\u306f\u3001pulp.value(prob.objective)\u3092\u5b9f\u884c\u3057\u307e\u3059\uff0e"
     ]
    },
    {
     "cell_type": "code",
     "collapsed": false,
     "input": [
      "print pulp.value(prob.objective)"
     ],
     "language": "python",
     "metadata": {},
     "outputs": [
      {
       "output_type": "stream",
       "stream": "stdout",
       "text": [
        "-3.0\n"
       ]
      }
     ],
     "prompt_number": 24
    },
    {
     "cell_type": "markdown",
     "metadata": {},
     "source": [
      "\u6700\u9069\u89e3\u3092\u5f97\u308b\u306b\u306f\u3001\u6b21\u306e\u3088\u3046\u306b\u5b9f\u884c\u3057\u307e\u3059\u3002"
     ]
    },
    {
     "cell_type": "code",
     "collapsed": false,
     "input": [
      "print pulp.value(z1), pulp.value(z2)"
     ],
     "language": "python",
     "metadata": {},
     "outputs": [
      {
       "output_type": "stream",
       "stream": "stdout",
       "text": [
        "1.0 1.0\n"
       ]
      }
     ],
     "prompt_number": 25
    },
    {
     "cell_type": "heading",
     "level": 1,
     "metadata": {},
     "source": [
      "\u53cc\u5bfe\u5909\u6570\u306e\u53d6\u5f97"
     ]
    },
    {
     "cell_type": "markdown",
     "metadata": {},
     "source": [
      "LP\u3092\u89e3\u3044\u305f\u3068\u304d\u306b\u306f\uff0c\u5404\u5236\u7d04\u5f0f\u306b\u5bfe\u3059\u308b\u53cc\u5bfe\u5909\u6570\u306e\u5024\u3092\u53d6\u5f97\u3059\u308b\u3053\u3068\u304c\u3067\u304d\u307e\u3059\uff0e\u305f\u3060\u3057\uff0c\u30bd\u30eb\u30d0\u3068\u3057\u3066GLPK\u3092\u7528\u3044\u305f\u3068\u304d\u306f\u53d6\u5f97\u3067\u304d\u306a\u3044\u3088\u3046\u3067\u3059\u3002\u79c1\u306e\u74b0\u5883\u304c\u539f\u56e0\u304b\u3001\u4ed5\u69d8\u306a\u306e\u304b\u306f\u3044\u307e\u3060\u4e0d\u660e\u3067\u3059\u3002"
     ]
    },
    {
     "cell_type": "markdown",
     "metadata": {},
     "source": [
      "\u53cc\u5bfe\u5909\u6570\u3092\u53d6\u5f97\u3059\u308b\u305f\u3081\u306b\u306f\uff0cLP\u306e\u5236\u7d04\u5f0f\u306b\u540d\u524d\u3092\u4ed8\u3051\u3066\u304a\u304f\u3068\u4fbf\u5229\u3067\u3059\u3002\u5148\u307b\u3069\u306e\u554f\u984c\u3092\u4e00\u304b\u3089\u5b9a\u7fa9\u3057\u76f4\u3057\u3001\u4eca\u5ea6\u306f\u5236\u7d04\u5f0f\u306b\u540d\u524d\u3092\u4ed8\u3051\u307e\u3057\u3087\u3046\u3002"
     ]
    },
    {
     "cell_type": "code",
     "collapsed": false,
     "input": [
      "prob_d = pulp.LpProblem(\"myProblem\",pulp.LpMinimize)\n",
      "x1=pulp.LpVariable(\"x1\",0,3)\n",
      "x2=pulp.LpVariable(\"x2\",0,1)\n",
      "prob_d+=-x1-2*x2\n",
      "prob_d+=x1+x2<=2,\"First_Constraint\"\n",
      "print prob_d"
     ],
     "language": "python",
     "metadata": {},
     "outputs": [
      {
       "output_type": "stream",
       "stream": "stdout",
       "text": [
        "myProblem:\n",
        "MINIMIZE\n",
        "-1*x1 + -2*x2 + 0\n",
        "SUBJECT TO\n",
        "First_Constraint: x1 + x2 <= 2\n",
        "\n",
        "VARIABLES\n",
        "x1 <= 3 Continuous\n",
        "x2 <= 1 Continuous\n",
        "\n"
       ]
      }
     ],
     "prompt_number": 26
    },
    {
     "cell_type": "markdown",
     "metadata": {},
     "source": [
      "\u3055\u3066\u3001\u3053\u306e\u7dda\u5f62\u8a08\u753b\u554f\u984c\u3092\u89e3\u3044\u3066\u3001\u5236\u7d04\u5f0f\u306b\u5bfe\u3059\u308b\u53cc\u5bfe\u5909\u6570\u306e\u5024\u3092\u53d6\u5f97\u3057\u307e\u3059\u3002\u307e\u305a\u306f\u89e3\u3044\u3066\u3001\u6700\u9069\u89e3\u3092\u5f97\u307e\u3059\u3002"
     ]
    },
    {
     "cell_type": "code",
     "collapsed": false,
     "input": [
      "status = prob_d.solve()\n",
      "print pulp.LpStatus[status]"
     ],
     "language": "python",
     "metadata": {},
     "outputs": [
      {
       "output_type": "stream",
       "stream": "stdout",
       "text": [
        "Optimal\n"
       ]
      }
     ],
     "prompt_number": 27
    },
    {
     "cell_type": "markdown",
     "metadata": {},
     "source": [
      "\u3064\u304e\u306b\u3001\u5236\u7d04\u5f0f\u306e\u540d\u524d\u3092\u6307\u5b9a\u3057\u3066\u3001\u305d\u308c\u306b\u5bfe\u5fdc\u3059\u308b\u53cc\u5bfe\u5909\u6570\u306e\u5024\u3092\u5f97\u307e\u3059\u3002"
     ]
    },
    {
     "cell_type": "code",
     "collapsed": false,
     "input": [
      "print prob_d.constraints.keys()"
     ],
     "language": "python",
     "metadata": {},
     "outputs": [
      {
       "output_type": "stream",
       "stream": "stdout",
       "text": [
        "['First_Constraint']\n"
       ]
      }
     ],
     "prompt_number": 28
    },
    {
     "cell_type": "code",
     "collapsed": false,
     "input": [
      "print prob_d.constraints[\"First_Constraint\"].pi"
     ],
     "language": "python",
     "metadata": {},
     "outputs": [
      {
       "output_type": "stream",
       "stream": "stdout",
       "text": [
        "-1.0\n"
       ]
      }
     ],
     "prompt_number": 31
    },
    {
     "cell_type": "heading",
     "level": 1,
     "metadata": {},
     "source": [
      "\u96c6\u5408\u5206\u5272\u554f\u984c\u5b9a\u5f0f\u5316 : Vehicle Routing Problem"
     ]
    },
    {
     "cell_type": "markdown",
     "metadata": {},
     "source": [
      "\u914d\u9001\u8a08\u753b\u554f\u984c\u306e\u96c6\u5408\u5206\u5272\u554f\u984c\u5b9a\u5f0f\u5316\u306f\uff0c\u6b21\u306e\u3088\u3046\u306b\u66f8\u304f\u3053\u3068\u304c\u3067\u304d\u307e\u3059\uff0e\u3000\u8a18\u6cd5\u306f\u82e5\u5e72\u8907\u96d1\u3067\u3059\u304c\uff0c\u96c6\u5408\u5206\u5272\u554f\u984c\u3067\u3059\uff0e"
     ]
    },
    {
     "cell_type": "code",
     "collapsed": false,
     "input": [
      "fig = Image(url='http://mathopt.sakura.ne.jp/VRP.png')\n",
      "fig "
     ],
     "language": "python",
     "metadata": {},
     "outputs": [
      {
       "html": [
        "<img src=\"http://mathopt.sakura.ne.jp/VRP.png\"/>"
       ],
       "metadata": {},
       "output_type": "pyout",
       "prompt_number": 32,
       "text": [
        "<IPython.core.display.Image at 0x105e97710>"
       ]
      }
     ],
     "prompt_number": 32
    },
    {
     "cell_type": "markdown",
     "metadata": {},
     "source": [
      "Vehicle Routing Problem\uff08\u914d\u9001\u8a08\u753b\u554f\u984c\uff09\u306e\u96c6\u5408\u5206\u5272\u554f\u984c\u5b9a\u5f0f\u5316\u3092PuLP\u3092\u7528\u3044\u3066\u8a18\u8ff0\u3057\u3066\u307f\u307e\u3059\uff0e\u307e\u305a\u306f\uff0c\u6700\u5c0f\u5316\u554f\u984c\u3068\u3057\u3066\u554f\u984c\u3092\u5b9a\u7fa9\u3057\u307e\u3059\uff0e\u001c"
     ]
    },
    {
     "cell_type": "code",
     "collapsed": false,
     "input": [
      "routing_model=pulp.LpProblem(\"VRP\",pulp.LpMinimize)"
     ],
     "language": "python",
     "metadata": {},
     "outputs": [],
     "prompt_number": 162
    },
    {
     "cell_type": "heading",
     "level": 1,
     "metadata": {},
     "source": [
      "\u96c6\u5408\u5206\u5272\u554f\u984c : \u5909\u6570\u306e\u5b9a\u7fa9"
     ]
    },
    {
     "cell_type": "heading",
     "level": 2,
     "metadata": {},
     "source": [
      "\u30ea\u30b9\u30c8\u304b\u3089\u5909\u6570\u3092\u751f\u6210\u3059\u308b"
     ]
    },
    {
     "cell_type": "markdown",
     "metadata": {},
     "source": [
      "\u914d\u9001\u8a08\u753b\u554f\u984c\u306e\u96c6\u5408\u5206\u5272\u554f\u984c\u5b9a\u5f0f\u5316\u3067\u306f\u3001\u8ca8\u7269\u306e\u96c6\u5408\u3092\u3001\u305d\u306e\u90e8\u5206\u96c6\u5408\u306b\u5206\u5272\u3057\u307e\u3059\u3002\u305d\u306e\u305f\u3081\u306b\u3001\u8ca8\u7269\u306e\u90e8\u5206\u96c6\u5408\u4e00\u3064\u306b\u3064\u304d\u30010\uff0d\uff11\u5909\u6570\u3092\u4e00\u3064\u5b9a\u7fa9\u3057\u307e\u3059\u3002\u90e8\u5206\u96c6\u5408\u306e\u6570\u304c\u81a8\u5927\u306b\u306a\u308b\u3068\u3001\u305d\u308c\u3089\u306e\u4e00\u3064\u4e00\u3064\u306b\u540d\u524d\u3092\u4ed8\u3051\u3066\u5909\u6570\u3092\u5b9a\u7fa9\u3059\u308b\u5fc5\u8981\u304c\u3042\u308a\u307e\u3059\u3002\u305d\u308c\u3092\u7c21\u5358\u306b\u5b9f\u73fe\u3059\u308b\u3053\u3068\u306e\u3067\u304d\u308b\u547d\u4ee4\u304cpulp\u306b\u306f\u7528\u610f\u3055\u308c\u3066\u3044\u307e\u3059\u3002"
     ]
    },
    {
     "cell_type": "markdown",
     "metadata": {},
     "source": [
      "\u3044\u307e\u3001\u8ca8\u7269\u306e\u90e8\u5206\u96c6\u5408\u306e\u540d\u524d\u3092\u8981\u7d20\u3068\u3059\u308b\u30ea\u30b9\u30c8pow_s\u304c\u3042\u308b\u3068\u3057\u307e\u3059\u3002pow_s\u306f\u3001pow_s=['s1','s2','s3']\u3068\u3001\u4e09\u3064\u306e\u8981\u7d20\u304b\u3089\u306a\u308b\u3068\u3057\u307e\u3059\uff0ePuLP\u306b\u306f\u3001\u30ea\u30b9\u30c8\u3092\u4e0e\u3048\u308b\u3068\u3001\u305d\u306e\u5404\u8981\u7d20\u306b\u5bfe\u3057\u3066\u5909\u6570\u3092\u5b9a\u7fa9\u3059\u308b\u3053\u3068\u306e\u3067\u304d\u308b\u547d\u4ee4\u304c\u3042\u308a\u307e\u3059\u3002\u305d\u308c\u306f\u3064\u304e\u306e\u3082\u306e\u3067\u3059\uff0e"
     ]
    },
    {
     "cell_type": "code",
     "collapsed": false,
     "input": [
      "pow_s=['s1','s2','s3']\n",
      "pow_s_vars=pulp.LpVariable.dicts('x', pow_s, lowBound=0, upBound=1, cat=pulp.LpBinary)\n",
      "print pow_s_vars"
     ],
     "language": "python",
     "metadata": {},
     "outputs": [
      {
       "output_type": "stream",
       "stream": "stdout",
       "text": [
        "{'s3': x_s3, 's2': x_s2, 's1': x_s1}\n"
       ]
      }
     ],
     "prompt_number": 163
    },
    {
     "cell_type": "markdown",
     "metadata": {},
     "source": [
      "\u3053\u306e\u547d\u4ee4\u306b\u3088\u308a\u30013\u3064\u306e\u5909\u6570\u304c\u751f\u6210\u3055\u308c\u3001\u305d\u308c\u3089\u306f\u8f9e\u66f8pow_s_vars\u306b\u304a\u3055\u3081\u3089\u308c\u307e\u3057\u305f\u3002\u3053\u306e\u8f9e\u66f8\u306e\u30ad\u30fc\u306f\u3001\u751f\u6210\u306b\u7528\u3044\u305f\u30ea\u30b9\u30c8\u306e\u5404\u8981\u7d20\u3067\u3059\u3002\u30ad\u30fc\u3068\u3057\u3066\u8981\u7d20\u3092\u6307\u5b9a\u3059\u308b\u3068\u3001\u305d\u306e\u8981\u7d20\u306b\u5bfe\u3057\u3066\u751f\u6210\u3055\u308c\u305f\u5909\u6570\u304c\u5024\u3068\u3057\u3066\u5f97\u3089\u308c\u307e\u3059\u3002\u4f8b\u3048\u3070\u3001\uff53\uff11\u306b\u5bfe\u3057\u3066\u5b9a\u7fa9\u3055\u308c\u305f\u5909\u6570\u3092\u5f97\u308b\u306b\u306f\u3001pow_s_vars['s1']\u3068\u3057\u307e\u3059\uff0e"
     ]
    },
    {
     "cell_type": "code",
     "collapsed": false,
     "input": [
      "print pow_s_vars['s1']"
     ],
     "language": "python",
     "metadata": {},
     "outputs": [
      {
       "output_type": "stream",
       "stream": "stdout",
       "text": [
        "x_s1\n"
       ]
      }
     ],
     "prompt_number": 164
    },
    {
     "cell_type": "markdown",
     "metadata": {},
     "source": [
      "\u547d\u4ee4pulp.LpVariable.dicts()\u306e\u7b2c\u4e00\u5f15\u6570\u306b\u306f\u3001\u751f\u6210\u3059\u308b\u5909\u6570\u306b\u3064\u3051\u308b\u540d\u524d\u306e\u6700\u521d\u306e\u90e8\u5206\u3092\u6307\u5b9a\u3057\u307e\u3059\u3002\u4eca\u306e\u4f8b\u3067\u306fx\u3092\u6307\u5b9a\u3057\u305f\u306e\u3067\u3001\u751f\u6210\u3055\u308c\u308b\u5909\u6570\u306e\u540d\u524d\u306f\u3001\u30ea\u30b9\u30c8\u306e\u8981\u7d20\u306e\u5148\u982d\u306b\u2019x_\u2019\u3092\u4ed8\u52a0\u3057\u305f\u2019\uff58_s1'\u306b\u306a\u308a\u307e\u3059\u3002"
     ]
    },
    {
     "cell_type": "markdown",
     "metadata": {},
     "source": [
      "\u7b2c\u4e8c\u5f15\u6570\u306b\u306f\u3001\u30ea\u30b9\u30c8\u3092\u6307\u5b9a\u3057\u307e\u3059\u3002\u7b2c\u4e09\u5f15\u6570\u306b\u306f\u3001\u5909\u6570\u306e\u4e0b\u9650\u5024\u3092\u6307\u5b9a\u3057\u307e\u3059\u3002\u7b2c\u56db\u5f15\u6570\u306b\u306f\u4e0a\u9650\u5024\u3092\u6307\u5b9a\u3057\u307e\u3059\u3002\u7b2c\u4e94\u5f15\u6570\u306b\u306f\u5909\u6570\u306e\u30bf\u30a4\u30d7\u3092\u6307\u5b9a\u3057\u307e\u3059\u3002\u3053\u3053\u3067\u306f0-1\u5909\u6570\u3092\u5b9a\u7fa9\u3057\u305f\u3044\u306e\u3067\u3001LpBinary\u3092\n",
      "\u6307\u5b9a\u3057\u307e\u3059\u3002\u9023\u7d9a\u5909\u6570\u3092\u5b9a\u7fa9\u3057\u305f\u3044\u5834\u5408\u306f\u3001LpContinuous\u3092\u6307\u5b9a\u3057\u307e\u3059\u3002"
     ]
    },
    {
     "cell_type": "markdown",
     "metadata": {},
     "source": [
      "\u306a\u304a\u3001\"lowBound=\",\"upBound=\",\"cat=\"\u306f\u7701\u7565\u3059\u308b\u3053\u3068\u304c\u3067\u304d\u307e\u3059\u3002"
     ]
    },
    {
     "cell_type": "heading",
     "level": 2,
     "metadata": {},
     "source": [
      "\u904b\u642c\u8eca\u3054\u3068\u306b\u5b9f\u884c\u53ef\u80fd\u30eb\u30fc\u30c8\u3092\u5b9a\u7fa9\u3059\u308b"
     ]
    },
    {
     "cell_type": "markdown",
     "metadata": {},
     "source": [
      "\u3053\u3053\u3067\u306f\uff0c\u6027\u80fd\u306e\u9055\u30462\u53f0\u306e\u904b\u642c\u8eca'v0'\u3068'v1'\u304c\u4f7f\u7528\u53ef\u80fd\u3068\u3057\u307e\u3059\uff0ev0\u3067\u5b9f\u884c\u53ef\u80fd\u306a\u30eb\u30fc\u30c8\u3092\u8981\u7d20\u3068\u3059\u308b\u30ea\u30b9\u30c8\u3092\uff0cv_feas_rt['v0']=[]\u3068\u5b9a\u7fa9\u3057\u3066\u304a\u304d\u307e\u3059\uff0e\u540c\u69d8\u306b\uff0cv1\u304c\u5b9f\u884c\u53ef\u80fd\u306a\u30eb\u30fc\u30c8\u3092\u8981\u7d20\u3068\u3059\u308b\u30ea\u30b9\u30c8\u3092\uff0cv_feas_rt['v1']=[]\u3068\u5b9a\u7fa9\u3057\u3066\u304a\u304d\u307e\u3059\uff0ev0\u306e\u5b9f\u884c\u53ef\u80fd\u306a\u30eb\u30fc\u30c8\u306fs0,s1,s2\u306e3\u3064\uff0cv1\u306e\u5b9f\u884c\u53ef\u80fd\u306a\u30eb\u30fc\u30c8\u306fs3,s4,s5\u306e3\u3064\u3068\u3057\u307e\u3059.\u3055\u3089\u306b\u51e6\u7406\u3059\u308b\u3079\u304d\u8ca8\u7269\u306fc0\uff0cc1\uff0cc2\uff0cc3\u306e4\u3064\u3068\u3057\u307e\u3059\uff0e\u3053\u308c\u3089\u306e\u8ca8\u7269\u3092\u8981\u7d20\u3068\u3059\u308b\u30ea\u30b9\u30c8cargos\u3092\u5b9a\u7fa9\u3057\u307e\u3059\uff0e"
     ]
    },
    {
     "cell_type": "code",
     "collapsed": false,
     "input": [
      "cargos=[\"c0\",\"c1\",\"c2\",\"c3\"];  print cargos\n"
     ],
     "language": "python",
     "metadata": {},
     "outputs": [
      {
       "output_type": "stream",
       "stream": "stdout",
       "text": [
        "['c0', 'c1', 'c2', 'c3']\n"
       ]
      }
     ],
     "prompt_number": 165
    },
    {
     "cell_type": "markdown",
     "metadata": {},
     "source": [
      "\u5b9f\u884c\u53ef\u80fd\u30eb\u30fc\u30c8s0\u306b\u304a\u3044\u3066\u51e6\u7406\u3059\u308b\u8ca8\u7269\u306f\uff0cc0\u3068\u3057\u307e\u3059\uff0e\u3053\u306e\u3068\u304d\uff0cv_feas_rt['v0']\u306e\u8981\u7d20\u3068\u3057\u3066\uff0c('v0',('c0'))\u3092\u8ffd\u52a0\u3057\u307e\u3059\uff0e\u3059\u306a\u308f\u3061\uff0c\u6700\u521d\u306e\u8981\u7d20\u306b\u904b\u642c\u8eca\u306e\u540d\u524d\u3092\uff0c2\u756a\u76ee\u306e\u8981\u7d20\u3068\u3057\u3066\u305d\u306e\u30eb\u30fc\u30c8\u3067\u51e6\u7406\u3059\u308b\u8ca8\u7269\u306e\u30bf\u30d7\u30eb\u3092\u6307\u5b9a\u3057\u307e\u3059\uff0e\u540c\u69d8\u306b\uff0c\u30eb\u30fc\u30c8s1\u306b\u304a\u3044\u3066\u51e6\u7406\u3059\u308b\u8ca8\u7269\u306fc0\u3068c1\u3068\u3057\u3066\uff0c\u3053\u306e\u30eb\u30fc\u30c8\u3092v_feas_rt['v0']\u306b\u8ffd\u52a0\u3057\u307e\u3059\uff0e\u3055\u3089\u306b\uff0c\u30eb\u30fc\u30c8s2\u306b\u304a\u3044\u3066\u51e6\u7406\u3059\u308b\u8ca8\u7269\u306fc1\u3068c3\u3068\u3057\u307e\u3059\uff0e"
     ]
    },
    {
     "cell_type": "code",
     "collapsed": false,
     "input": [
      "v_feas_rt={}; v_feas_rt['v0']=[]\n",
      "v_feas_rt['v0']+=[('v0',('c0'))]\n",
      "v_feas_rt['v0']+=[('v0',('c0','c1'))]\n",
      "v_feas_rt['v0']+=[('v0',('c1','c3'))]\n",
      "print v_feas_rt['v0']"
     ],
     "language": "python",
     "metadata": {},
     "outputs": [
      {
       "output_type": "stream",
       "stream": "stdout",
       "text": [
        "[('v0', 'c0'), ('v0', ('c0', 'c1')), ('v0', ('c1', 'c3'))]\n"
       ]
      }
     ],
     "prompt_number": 166
    },
    {
     "cell_type": "markdown",
     "metadata": {},
     "source": [
      "\u5404\u30eb\u30fc\u30c8\u306e\u30b3\u30b9\u30c8\u3092\u5024\u3068\u3057\u3066\u3082\u3064\u8f9e\u66f8route_cost\u3082\u3042\u308f\u305b\u3066\u5b9a\u7fa9\u3057\u307e\u3059\uff0e"
     ]
    },
    {
     "cell_type": "code",
     "collapsed": false,
     "input": [
      "route_cost={}"
     ],
     "language": "python",
     "metadata": {},
     "outputs": [],
     "prompt_number": 167
    },
    {
     "cell_type": "code",
     "collapsed": false,
     "input": [
      "route_cost[('v0',('c0'))]=100\n",
      "route_cost[('v0',('c0','c1'))]=200\n",
      "route_cost[('v0',('c1','c3'))]=300\n"
     ],
     "language": "python",
     "metadata": {},
     "outputs": [],
     "prompt_number": 168
    },
    {
     "cell_type": "markdown",
     "metadata": {},
     "source": [
      "\u904b\u642c\u8ecav1\u306e\u5b9f\u884c\u53ef\u80fd\u30eb\u30fc\u30c8\u3082\u540c\u69d8\u306bv_feas_rt['v1']\u306b\u8a2d\u5b9a\u3057\u307e\u3059\uff0e"
     ]
    },
    {
     "cell_type": "code",
     "collapsed": false,
     "input": [
      "v_feas_rt['v1']=[]\n",
      "v_feas_rt['v1']+=[('v1',('c3'))]\n",
      "v_feas_rt['v1']+=[('v1',('c0','c2'))]\n",
      "v_feas_rt['v1']+=[('v1',('c0','c3'))]\n",
      "print v_feas_rt['v1']"
     ],
     "language": "python",
     "metadata": {},
     "outputs": [
      {
       "output_type": "stream",
       "stream": "stdout",
       "text": [
        "[('v1', 'c3'), ('v1', ('c0', 'c2')), ('v1', ('c0', 'c3'))]\n"
       ]
      }
     ],
     "prompt_number": 169
    },
    {
     "cell_type": "code",
     "collapsed": true,
     "input": [
      "route_cost[('v1',('c3'))]=150\n",
      "route_cost[('v1',('c0','c2'))]=220\n",
      "route_cost[('v1',('c0','c3'))]=180\n",
      "print route_cost"
     ],
     "language": "python",
     "metadata": {},
     "outputs": [
      {
       "output_type": "stream",
       "stream": "stdout",
       "text": [
        "{('v1', ('c0', 'c3')): 180, ('v1', ('c0', 'c2')): 220, ('v0', ('c0', 'c1')): 200, ('v0', ('c1', 'c3')): 300, ('v0', 'c0'): 100, ('v1', 'c3'): 150}\n"
       ]
      }
     ],
     "prompt_number": 170
    },
    {
     "cell_type": "markdown",
     "metadata": {},
     "source": [
      "\u3053\u3046\u3057\u3066\u5b9a\u7fa9\u3057\u305f\u30eb\u30fc\u30c8\u3092\uff0c\u96c6\u5408\u5206\u5272\u554f\u984c\u306e\u5236\u7d04\u884c\u5217\u3068\u3057\u3066\u8868\u308f\u3059\u3068\uff0c\u6b21\u306e\u3088\u3046\u306b\u306a\u308a\u307e\u3059\uff0e"
     ]
    },
    {
     "cell_type": "markdown",
     "metadata": {},
     "source": [
      "|  | $x_{0,0}$    | $x_{0,1}$ | $x_{0,2}$ |$x_{1,0}$|$x_{1,1}$|$x_{1,2}$| $y_{c0}$ | $y_{c1} $ | $y_{c2} $ | $y_{c3} $ | \n",
      "|:--: |:--:|:--:|:--:|:--:|:--:|:--:|:--:|:--:|\n",
      "|$c_0$| 1  |1 |  |  | 1|1 | 1| | | |\n",
      "|$c_1$|    |1 | 1|  |  |  | |1 | | |\n",
      "|$c_2$|    |  |  |  | 1|  | | |1 | |\n",
      "|$c_3$|    |  | 1| 1|  |1 | | | |1 | |\n",
      "\n"
     ]
    },
    {
     "cell_type": "heading",
     "level": 2,
     "metadata": {},
     "source": [
      "\u96c6\u5408\u5206\u5272\u554f\u984c : \u5b9f\u884c\u53ef\u80fd\u30eb\u30fc\u30c8\u3054\u3068\u306b\u5909\u6570\u3092\u5b9a\u7fa9\u3059\u308b"
     ]
    },
    {
     "cell_type": "markdown",
     "metadata": {},
     "source": [
      "\u5148\u307b\u3069\u904b\u642c\u8eca\u3054\u3068\u306e\u5b9f\u884c\u53ef\u80fd\u30eb\u30fc\u30c8\u3092\u8868\u3059v_feas_rt\u3092\u5b9a\u7fa9\u3057\u307e\u3057\u305f\u304c\uff0c\u3053\u308c\u3089\u306e\u8981\u7d20\u3092\u7dcf\u3066\u3042\u308f\u305b\u305ffeas_rt\u3092\u7528\u610f\u3057\u3066\u304a\u304d\u307e\u3059\uff0e"
     ]
    },
    {
     "cell_type": "code",
     "collapsed": false,
     "input": [
      "vehicles,feas_rt=['v0','v1'],[]\n",
      "for v in vehicles:\n",
      "        feas_rt+=v_feas_rt[v]\n",
      "print feas_rt"
     ],
     "language": "python",
     "metadata": {},
     "outputs": [
      {
       "output_type": "stream",
       "stream": "stdout",
       "text": [
        "[('v0', 'c0'), ('v0', ('c0', 'c1')), ('v0', ('c1', 'c3')), ('v1', 'c3'), ('v1', ('c0', 'c2')), ('v1', ('c0', 'c3'))]\n"
       ]
      }
     ],
     "prompt_number": 171
    },
    {
     "cell_type": "markdown",
     "metadata": {},
     "source": [
      "\u5168\u3066\u306e\u5b9f\u884c\u53ef\u80fd\u30eb\u30fc\u30c8\u306f\uff0cfeas_rt\u306e\u8981\u7d20\u3068\u3057\u3066\u5f97\u3089\u308c\u307e\u3059\uff0e\u305d\u3053\u3067\uff0cLpVariable.dicts()\u3092\u7528\u3044\u3066feas_rt\u306e\u5404\u8981\u7d20\u306b\u5bfe\u3057\u3066\u5909\u6570\u3092\u5b9a\u7fa9\u3057\u307e\u3059\uff0e"
     ]
    },
    {
     "cell_type": "code",
     "collapsed": false,
     "input": [
      "x=pulp.LpVariable.dicts('x',feas_rt,lowBound=0,upBound=1,cat=pulp.LpContinuous)\n",
      "print x"
     ],
     "language": "python",
     "metadata": {},
     "outputs": [
      {
       "output_type": "stream",
       "stream": "stdout",
       "text": [
        "{('v1', ('c0', 'c3')): x_('v1',_('c0',_'c3')), ('v1', ('c0', 'c2')): x_('v1',_('c0',_'c2')), ('v0', ('c0', 'c1')): x_('v0',_('c0',_'c1')), ('v0', ('c1', 'c3')): x_('v0',_('c1',_'c3')), ('v0', 'c0'): x_('v0',_'c0'), ('v1', 'c3'): x_('v1',_'c3')}\n"
       ]
      }
     ],
     "prompt_number": 172
    },
    {
     "cell_type": "markdown",
     "metadata": {},
     "source": [
      "\u3053\u3046\u3057\u3066\uff0c\u5404\u5b9f\u884c\u53ef\u80fd\u30eb\u30fc\u30c8\u306b\u5bfe\u3057\u3066\u5909\u6570x\u304c\u5b9a\u7fa9\u3067\u304d\u307e\u3057\u305f\uff0e\u5909\u6570\u3068\u3057\u3066\u306f\uff0cx\u306e\u4ed6\u306by\u3082\u5b9a\u7fa9\u3057\u307e\u3059\uff0ey\u306f\uff0c\u5404\u8ca8\u7269\u306b\u5bfe\u3057\u30661\u3064\u5b9a\u7fa9\u3057\u307e\u3059\u001d",
      "\n",
      "\n",
      "\n",
      "\n",
      "\n",
      "\n",
      "\n",
      "\n",
      "\n",
      "\n",
      "\n",
      "\n",
      "\n",
      "\n",
      "\n",
      "\n",
      "\n",
      "\n",
      "\n",
      "\n",
      "\n",
      "\n",
      "\n",
      "\n",
      "\n",
      "\n",
      "\n",
      "\n",
      "\n",
      "\n",
      "\n",
      "\n",
      "\n",
      "\n",
      "\n",
      "\n",
      "\n",
      "\n",
      "\n",
      "\n",
      "\n",
      "\n",
      "\n",
      "\n",
      "\n",
      "\n",
      "\n",
      "\n",
      "\n",
      "\n",
      "\n",
      "\n",
      "\n",
      "\n",
      "\n",
      "\n",
      "\n",
      "\n",
      "\n",
      "\n",
      "\n",
      "\n",
      "\n",
      "\n",
      "\n",
      "\n",
      "\n",
      "\n",
      "\n",
      "\n",
      "\n",
      "\n",
      "\n",
      "\n",
      "\n",
      "\n",
      "\n",
      "\n",
      "\n",
      "\n",
      "\n",
      "\n",
      "\n",
      "\n",
      "\n",
      "\n",
      "\n",
      "\n",
      "\n",
      "\n",
      "\n",
      "\n",
      "\n",
      "\n",
      "\n",
      "\n",
      "\n",
      "\n",
      "\n",
      "\n",
      "\n",
      "\n",
      "\n",
      "\n",
      "\n",
      "\n",
      "\n",
      "\n",
      "\n",
      "\n",
      "\n",
      "\n",
      "\n",
      "\n",
      "\n",
      "\n",
      "\n",
      "\n",
      "\n",
      "\n",
      "\n",
      "\n",
      "\n",
      "\n",
      "\n",
      "\n",
      "\n",
      "\n",
      "\n",
      "\n",
      "\n",
      "\n",
      "\n",
      "\n",
      "\n",
      "\n",
      "\n",
      "\n",
      "\n",
      "\n",
      "\n",
      "\n",
      "\n",
      "\n",
      "\n",
      "\n",
      "\n",
      "\n",
      "\n",
      "\n",
      "\n",
      "\n",
      "\n",
      "\n",
      "\n",
      "\n",
      "\n",
      "\n",
      "\n",
      "\n",
      "\n",
      "\n",
      "\n",
      "\n",
      "\n",
      "\n",
      "\n",
      "\n",
      "\n",
      "\n",
      "\n",
      "\n",
      "\n",
      "\n",
      "\n",
      "\n",
      "\n",
      "\n",
      "\n",
      "\n",
      "\n",
      "\n",
      "\n",
      "\n",
      "\n",
      "\n",
      "\n",
      "\n",
      "\n",
      "\n",
      "\n",
      "\n",
      "\n",
      "\n",
      "\n",
      "\n",
      "\n",
      "\n",
      "\n",
      "\n",
      "\n",
      "\n",
      "\n",
      "\n",
      "\n",
      "\n",
      "\n",
      "\n",
      "\n",
      "\n",
      "\n",
      "\n",
      "\n",
      "\n",
      "\n",
      "\n",
      "\n",
      "\n",
      "\n",
      "\n",
      "\n",
      "\n",
      "\n",
      "\n",
      "\n",
      "\n",
      "\n",
      "\n",
      "\n",
      "\n",
      "\n",
      "\n",
      "\n",
      "\n",
      "\n",
      "\n",
      "\n",
      "\n",
      "\n",
      "\n",
      "\n",
      "\n",
      "\n",
      "\n",
      "\n",
      "\n",
      "\n",
      "\n",
      "\n",
      "\n",
      "\n",
      "\n",
      "\n",
      "\n",
      "\n",
      "\n",
      "\n",
      "\n",
      "\n",
      "\n",
      "\n",
      "\n",
      "\n",
      "\n",
      "\n",
      "\n",
      "\n",
      "\n",
      "\n",
      "\n",
      "\n",
      "\n",
      "\n",
      "\n",
      "\n",
      "\n",
      "\n",
      "\n",
      "\n",
      "\n",
      "\n",
      "\n",
      "\n",
      "\n",
      "\n",
      "\n",
      "\n",
      "\n",
      "\n",
      "\n",
      "\n",
      "\n",
      "\n",
      "\n",
      "\n",
      "\n",
      "\n",
      "\n",
      "\n",
      "\n",
      "\n",
      "\n",
      "\n",
      "\n",
      "\n",
      "\n",
      "\n",
      "\n",
      "\n",
      "\n",
      "\n",
      "\n",
      "\n",
      "\n",
      "\n",
      "\n",
      "\n",
      "\n",
      "\n",
      "\n",
      "\n",
      "\n",
      "\n",
      "\n",
      "\n",
      "\n",
      "\n",
      "\n",
      "\n",
      "\n",
      "\n",
      "\n",
      "\n",
      "\n",
      "\n",
      "\n",
      "\n",
      "\n",
      "\n",
      "\n",
      "\n",
      "\n",
      "\n",
      "\n",
      "\n",
      "\n",
      "\n",
      "\n",
      "\n",
      "\n",
      "\n",
      "\n",
      "\n",
      "\n",
      "\n",
      "\n",
      "\n",
      "\n",
      "\n",
      "\n",
      "\n",
      "\n",
      "\n",
      "\n",
      "\n",
      "\n",
      "\n",
      "\n",
      "\n",
      "\n",
      "\n",
      "\n",
      "\n",
      "\n",
      "\n",
      "\n",
      "\n",
      "\n",
      "\n",
      "\n",
      "\n",
      "\n",
      "\n",
      "\n",
      "\n",
      "\n",
      "\n",
      "\n",
      "\n",
      "\n",
      "\n",
      "\n",
      "\n",
      "\n",
      "\n",
      "\n",
      "\n",
      "\n",
      "\n",
      "\n",
      "\n",
      "\n",
      "\n",
      "\n",
      "\n",
      "\n",
      "\n",
      "\n",
      "\n",
      "\n",
      "\n",
      "\n",
      "\n",
      "\n",
      "\n",
      "\n",
      "\n",
      "\n",
      "\n",
      "\n",
      "\n",
      "\n",
      "\n",
      "\n",
      "\n",
      "\n",
      "\n",
      "\n",
      "\n",
      "\n",
      "\n",
      "\n",
      "\n",
      "\n",
      "\n",
      "\n",
      "\n",
      "\n",
      "\n",
      "\n",
      "\n",
      "\n",
      "\n",
      "\n",
      "\n",
      "\n",
      "\n",
      "\n",
      "\n",
      "\n",
      "\n",
      "\n",
      "\n",
      "\n",
      "\n",
      "\n",
      "\n",
      "\n",
      "\n",
      "\n",
      "\n",
      "\n",
      "\n",
      "\n",
      "\n",
      "\n",
      "\n",
      "\n",
      "\n",
      "\n",
      "\n",
      "\n",
      "\n",
      "\n",
      "\n",
      "\n",
      "\n",
      "\n",
      "\n",
      "\n",
      "\n",
      "\n",
      "\n",
      "\n",
      "\n",
      "\n",
      "\n",
      "\n",
      "\n",
      "\n",
      "\n",
      "\n",
      "\n",
      "\n",
      "\n",
      "\n",
      "\n",
      "\n",
      "\n",
      "\n",
      "\n",
      "\n",
      "\n",
      "\n",
      "\n",
      "\n",
      "\n",
      "\n",
      "\n",
      "\n",
      "\n",
      "\uff0e\u3053\u308c\u306f\uff0c\u8ca8\u7269\u304c\u3069\u306e\u30eb\u30fc\u30c8\u3067\u3082\u51e6\u7406\u3055\u308c\u306a\u3044\u3068\u304d\u306b1\u3068\u306a\u308b0-1\u5909\u6570\u3067\u3059\uff0e\u3053\u306e\u5909\u6570\u304c\u3042\u308b\u3053\u3068\u306b\u3088\u308a\uff0c\u96c6\u5408\u5206\u5272\u554f\u984c\u306f\u5e38\u306b\u5b9f\u884c\u53ef\u80fd\u306b\u306a\u308a\u307e\u3059\uff0e"
     ]
    },
    {
     "cell_type": "code",
     "collapsed": false,
     "input": [
      "y=pulp.LpVariable.dicts('y',cargos,lowBound=0,upBound=1,cat=pulp.LpContinuous)\n",
      "print y"
     ],
     "language": "python",
     "metadata": {},
     "outputs": [
      {
       "output_type": "stream",
       "stream": "stdout",
       "text": [
        "{'c3': y_c3, 'c2': y_c2, 'c1': y_c1, 'c0': y_c0}\n"
       ]
      }
     ],
     "prompt_number": 173
    },
    {
     "cell_type": "markdown",
     "metadata": {},
     "source": [
      "\u3053\u3053\u3067\uff0cx\u3068y\u306f\uff0c0\u4ee5\u4e0a1\u4ee5\u4e0b\u306e\u9023\u7d9a\u5909\u6570\u3068\u3057\u3066\u5b9a\u7fa9\u3057\u307e\u3057\u305f\uff0e\u672c\u6765\u306f0-1\u5909\u6570\u3067\u3059\u304c\uff0c\u5217\u751f\u6210\u3067\u306fLP\u7de9\u548c\u554f\u984c\u3068\u3057\u3066\u89e3\u3044\u3066\u53cc\u5bfe\u5909\u6570\u306e\u5024\u3092\u53d6\u308a\u51fa\u3057\u3066\u4f7f\u3046\u306e\u3067\uff0c\u6700\u521d\u304b\u3089\u9023\u7d9a\u5909\u6570\u3068\u3057\u3066\u7de9\u548c\u3057\u3066\u3042\u308a\u307e\u3059\uff0e"
     ]
    },
    {
     "cell_type": "heading",
     "level": 1,
     "metadata": {},
     "source": [
      "\u96c6\u5408\u5206\u5272\u554f\u984c\uff1a\u5236\u7d04\u5f0f\u306e\u5b9a\u7fa9"
     ]
    },
    {
     "cell_type": "markdown",
     "metadata": {},
     "source": [
      "\u307e\u305a\uff0c\u8ca8\u7269\u3092\u8981\u7d20\u3068\u3059\u308b\u30bf\u30d7\u30eb cargos=('c0','c1','c2','c3')\u3092\u5b9a\u7fa9\u3057\u307e\u3059\u001d",
      "\n",
      "\n",
      "\n",
      "\n",
      "\n",
      "\n",
      "\n",
      "\n",
      "\n",
      "\n",
      "\n",
      "\n",
      "\n",
      "\n",
      "\n",
      "\n",
      "\n",
      "\n",
      "\n",
      "\n",
      "\n",
      "\n",
      "\n",
      "\n",
      "\n",
      "\n",
      "\n",
      "\n",
      "\n",
      "\n",
      "\n",
      "\n",
      "\n",
      "\n",
      "\n",
      "\n",
      "\n",
      "\n",
      "\n",
      "\n",
      "\n",
      "\n",
      "\n",
      "\n",
      "\n",
      "\n",
      "\n",
      "\n",
      "\n",
      "\n",
      "\n",
      "\n",
      "\n",
      "\n",
      "\n",
      "\n",
      "\n",
      "\n",
      "\n",
      "\n",
      "\n",
      "\n",
      "\n",
      "\n",
      "\n",
      "\n",
      "\n",
      "\n",
      "\n",
      "\n",
      "\n",
      "\n",
      "\n",
      "\n",
      "\n",
      "\n",
      "\n",
      "\n",
      "\n",
      "\n",
      "\n",
      "\n",
      "\n",
      "\n",
      "\n",
      "\n",
      "\n",
      "\n",
      "\n",
      "\n",
      "\n",
      "\n",
      "\n",
      "\n",
      "\n",
      "\n",
      "\n",
      "\n",
      "\n",
      "\n",
      "\n",
      "\n",
      "\n",
      "\n",
      "\n",
      "\n",
      "\n",
      "\n",
      "\n",
      "\n",
      "\n",
      "\n",
      "\n",
      "\n",
      "\n",
      "\n",
      "\n",
      "\n",
      "\n",
      "\n",
      "\n",
      "\n",
      "\n",
      "\n",
      "\n",
      "\n",
      "\n",
      "\n",
      "\n",
      "\n",
      "\n",
      "\n",
      "\n",
      "\n",
      "\n",
      "\n",
      "\n",
      "\n",
      "\n",
      "\n",
      "\n",
      "\n",
      "\n",
      "\n",
      "\n",
      "\n",
      "\n",
      "\n",
      "\n",
      "\n",
      "\n",
      "\n",
      "\n",
      "\n",
      "\n",
      "\n",
      "\n",
      "\n",
      "\n",
      "\n",
      "\n",
      "\n",
      "\n",
      "\n",
      "\n",
      "\n",
      "\n",
      "\n",
      "\n",
      "\n",
      "\n",
      "\n",
      "\n",
      "\n",
      "\n",
      "\n",
      "\n",
      "\n",
      "\n",
      "\n",
      "\n",
      "\n",
      "\n",
      "\n",
      "\n",
      "\n",
      "\n",
      "\n",
      "\n",
      "\n",
      "\n",
      "\n",
      "\n",
      "\n",
      "\n",
      "\n",
      "\n",
      "\n",
      "\n",
      "\n",
      "\n",
      "\n",
      "\n",
      "\n",
      "\n",
      "\n",
      "\n",
      "\n",
      "\n",
      "\n",
      "\n",
      "\n",
      "\n",
      "\n",
      "\n",
      "\n",
      "\n",
      "\n",
      "\n",
      "\n",
      "\n",
      "\n",
      "\n",
      "\n",
      "\n",
      "\n",
      "\n",
      "\n",
      "\n",
      "\n",
      "\n",
      "\n",
      "\n",
      "\n",
      "\n",
      "\n",
      "\n",
      "\n",
      "\n",
      "\n",
      "\n",
      "\n",
      "\n",
      "\n",
      "\n",
      "\n",
      "\n",
      "\n",
      "\n",
      "\n",
      "\n",
      "\n",
      "\n",
      "\n",
      "\n",
      "\uff0e\u5236\u7d04\u5f0f\u306f\u5404\u8ca8\u7269\u306b\u5bfe\u3057\u3066\uff11\u3064\u305a\u3064\u5b9a\u7fa9\u3057\u307e\u3059\uff0e\u305d\u306e\u305f\u3081\u306b\u3053\u306e\u30bf\u30d7\u30eb\u3092\u3064\u304b\u3044\u001f\u307e\u3059\uff0e\u4f8b\u3068\u3057\u3066\uff0c\u8ca8\u7269c0\u306b\u5bfe\u3059\u308b\u5236\u7d04\u5f0f\u3092\u53d6\u308a\u4e0a\u3052\u307e\u3059\uff0ec0\u306b\u5bfe\u3059\u308b\u5236\u7d04\u5f0f\u306f\uff0cc0\u3092\u542b\u3080\u5b9f\u884c\u53ef\u80fd\u30eb\u30fc\u30c8\u306b\u5bfe\u3059\u308b\u5909\u6570\u3092\u8db3\u3057\u305f\u3082\u306e\u306b\uff0cy[c0]\u3092\u8db3\u3057\u305f\u3082\u306e\uff08\u7dda\u5f62\u5f0f\uff09\u304c\uff0c1\u306b\u7b49\u3057\u3044\uff0c\u3068\u3044\u3046\u3082\u306e\u3068\u3057\u3066\u5b9a\u7fa9\u3057\u307e\u3059\uff0e\u3053\u3053\u3067\uff0cc0\u3092\u542b\u3080\u5b9f\u884c\u53ef\u80fd\u30eb\u30fc\u30c8\u306b\u5bfe\u3059\u308b\u5909\u6570\u306f\uff0c\u6b21\u306e\u547d\u4ee4\u3067\u5f97\u3089\u308c\u307e\u3059\uff0e"
     ]
    },
    {
     "cell_type": "code",
     "collapsed": false,
     "input": [
      "[x[route] for route in feas_rt if 'c0' in route[1] ]"
     ],
     "language": "python",
     "metadata": {},
     "outputs": [
      {
       "metadata": {},
       "output_type": "pyout",
       "prompt_number": 174,
       "text": [
        "[x_('v0',_'c0'),\n",
        " x_('v0',_('c0',_'c1')),\n",
        " x_('v1',_('c0',_'c2')),\n",
        " x_('v1',_('c0',_'c3'))]"
       ]
      }
     ],
     "prompt_number": 174
    },
    {
     "cell_type": "markdown",
     "metadata": {},
     "source": [
      "\u3053\u308c\u3089\u306e\u5909\u6570\u306e\u548c\u3092\u5f97\u308b\u306b\u306f\uff0c\u3053\u306e\u30ea\u30b9\u30c8\u3092sum()\u306e\u5f15\u6570\u306b\u4e0e\u3048\u307e\u3059\uff0e\u7d50\u5c40\uff0c\u554f\u984crouting_model\u306b\uff0c\u5404\u8ca8\u7269\u306b\u5bfe\u3059\u308b\u5236\u7d04\u5f0f\u3092\u8ffd\u52a0\u3059\u308b\u306b\u306f\u3064\u304e\u306e\u547d\u4ee4\u3092\u5b9f\u884c\u3057\u307e\u3059\uff0e"
     ]
    },
    {
     "cell_type": "code",
     "collapsed": false,
     "input": [
      "for c in cargos:\n",
      "    routing_model+=sum([x[route] for route in feas_rt if c in route[1]])+y[c]==1,\"Must_assign_%s\"%c"
     ],
     "language": "python",
     "metadata": {},
     "outputs": [],
     "prompt_number": 175
    },
    {
     "cell_type": "code",
     "collapsed": true,
     "input": [
      "print routing_model"
     ],
     "language": "python",
     "metadata": {},
     "outputs": [
      {
       "output_type": "stream",
       "stream": "stdout",
       "text": [
        "VRP:\n",
        "MINIMIZE\n",
        "None\n",
        "SUBJECT TO\n",
        "Must_assign_c0: x_('v0',_'c0') + x_('v0',_('c0',_'c1'))\n",
        " + x_('v1',_('c0',_'c2')) + x_('v1',_('c0',_'c3')) + y_c0 = 1\n",
        "\n",
        "Must_assign_c1: x_('v0',_('c0',_'c1')) + x_('v0',_('c1',_'c3')) + y_c1 = 1\n",
        "\n",
        "Must_assign_c2: x_('v1',_('c0',_'c2')) + y_c2 = 1\n",
        "\n",
        "Must_assign_c3: x_('v0',_('c1',_'c3')) + x_('v1',_'c3')\n",
        " + x_('v1',_('c0',_'c3')) + y_c3 = 1\n",
        "\n",
        "VARIABLES\n",
        "x_('v0',_'c0') <= 1 Continuous\n",
        "x_('v0',_('c0',_'c1')) <= 1 Continuous\n",
        "x_('v0',_('c1',_'c3')) <= 1 Continuous\n",
        "x_('v1',_'c3') <= 1 Continuous\n",
        "x_('v1',_('c0',_'c2')) <= 1 Continuous\n",
        "x_('v1',_('c0',_'c3')) <= 1 Continuous\n",
        "y_c0 <= 1 Continuous\n",
        "y_c1 <= 1 Continuous\n",
        "y_c2 <= 1 Continuous\n",
        "y_c3 <= 1 Continuous\n",
        "\n"
       ]
      }
     ],
     "prompt_number": 176
    },
    {
     "cell_type": "markdown",
     "metadata": {},
     "source": [
      "\u3053\u308c\u3067\uff0c\u5404\u8ca8\u7269\u3092\u51e6\u7406\u3059\u308b\u3068\u3044\u3046\u5236\u7d04\u5f0f\u3092\u5b9a\u7fa9\u3067\u304d\u307e\u3057\u305f\uff0e\u5236\u7d04\u5f0f\u3068\u3057\u3066\u3082\u3046\u4e00\u7a2e\u985e\u306e\u3082\u306e\u3092\u5b9a\u7fa9\u3057\u307e\u3059\uff0e\u305d\u308c\u306f\uff0c\u5404\u904b\u642c\u8eca\u304c\u5b9f\u884c\u3059\u308b\u30eb\u30fc\u30c8\u306e\u6570\u306f1\u4ee5\u4e0b\uff0c\u3068\u3044\u3046\u5236\u7d04\u3067\u3059\uff0e\u904b\u642c\u8ecav\u304c\u51e6\u7406\u3059\u308b\u30eb\u30fc\u30c8\u306b\u5bfe\u5fdc\u3059\u308b\u5909\u6570\u306f[x[route] for route in v_feas_rt[v]]\u3068\u3057\u3066\u5f97\u3089\u308c\u308b\u306e\u3067\uff0c\u5404\u8239\u306b\u5bfe\u3057\u3066\u3053\u306e\u5236\u7d04\u5f0f\u3092\u5b9a\u7fa9\u3059\u308b\u306b\u306f\u3064\u304e\u306e\u547d\u4ee4\u3092\u5b9f\u884c\u3057\u307e\u3059\uff0e"
     ]
    },
    {
     "cell_type": "code",
     "collapsed": false,
     "input": [
      "for v in vehicles:\n",
      "    routing_model += sum( [x[route] for route in v_feas_rt[v]])<=1,\"Vehicle_assign_%s\"%v\n",
      "print routing_model"
     ],
     "language": "python",
     "metadata": {},
     "outputs": [
      {
       "output_type": "stream",
       "stream": "stdout",
       "text": [
        "VRP:\n",
        "MINIMIZE\n",
        "None\n",
        "SUBJECT TO\n",
        "Must_assign_c0: x_('v0',_'c0') + x_('v0',_('c0',_'c1'))\n",
        " + x_('v1',_('c0',_'c2')) + x_('v1',_('c0',_'c3')) + y_c0 = 1\n",
        "\n",
        "Must_assign_c1: x_('v0',_('c0',_'c1')) + x_('v0',_('c1',_'c3')) + y_c1 = 1\n",
        "\n",
        "Must_assign_c2: x_('v1',_('c0',_'c2')) + y_c2 = 1\n",
        "\n",
        "Must_assign_c3: x_('v0',_('c1',_'c3')) + x_('v1',_'c3')\n",
        " + x_('v1',_('c0',_'c3')) + y_c3 = 1\n",
        "\n",
        "Vehicle_assign_v0: x_('v0',_'c0') + x_('v0',_('c0',_'c1'))\n",
        " + x_('v0',_('c1',_'c3')) <= 1\n",
        "\n",
        "Vehicle_assign_v1: x_('v1',_'c3') + x_('v1',_('c0',_'c2'))\n",
        " + x_('v1',_('c0',_'c3')) <= 1\n",
        "\n",
        "VARIABLES\n",
        "x_('v0',_'c0') <= 1 Continuous\n",
        "x_('v0',_('c0',_'c1')) <= 1 Continuous\n",
        "x_('v0',_('c1',_'c3')) <= 1 Continuous\n",
        "x_('v1',_'c3') <= 1 Continuous\n",
        "x_('v1',_('c0',_'c2')) <= 1 Continuous\n",
        "x_('v1',_('c0',_'c3')) <= 1 Continuous\n",
        "y_c0 <= 1 Continuous\n",
        "y_c1 <= 1 Continuous\n",
        "y_c2 <= 1 Continuous\n",
        "y_c3 <= 1 Continuous\n",
        "\n"
       ]
      }
     ],
     "prompt_number": 177
    },
    {
     "cell_type": "heading",
     "level": 1,
     "metadata": {},
     "source": [
      "\u96c6\u5408\u5206\u5272\u554f\u984c\uff1a\u76ee\u7684\u95a2\u6570\u306e\u5b9a\u7fa9"
     ]
    },
    {
     "cell_type": "markdown",
     "metadata": {},
     "source": [
      "\u6b21\u306b\uff0c\u76ee\u7684\u95a2\u6570\u3092\u5b9a\u7fa9\u3057\u307e\u3059\uff0e\u76ee\u7684\u95a2\u6570\u306f\uff0c\u63a1\u7528\u3059\u308b\u30eb\u30fc\u30c8\u306e\u30b3\u30b9\u30c8\u306e\u548c\u3068\uff0c\u5909\u6570y\u306b\u30da\u30ca\u30eb\u30c6\u30a3\u3092\u793a\u3059\u5927\u304d\u306a\u4fc2\u6570\u3092\u304b\u3051\u305f\u3082\u306e\u306e\u548c\u3068\u3057\u3066\u5b9a\u7fa9\u3057\u307e\u3059\uff0e"
     ]
    },
    {
     "cell_type": "code",
     "collapsed": false,
     "input": [
      "routing_model+=sum([route_cost[route]*x[route] for route in feas_rt])+sum([1000*y[c] for c in cargos])\n",
      "print routing_model"
     ],
     "language": "python",
     "metadata": {},
     "outputs": [
      {
       "output_type": "stream",
       "stream": "stdout",
       "text": [
        "VRP:\n",
        "MINIMIZE\n",
        "100*x_('v0',_'c0') + 200*x_('v0',_('c0',_'c1')) + 300*x_('v0',_('c1',_'c3')) + 150*x_('v1',_'c3') + 220*x_('v1',_('c0',_'c2')) + 180*x_('v1',_('c0',_'c3')) + 1000*y_c0 + 1000*y_c1 + 1000*y_c2 + 1000*y_c3 + 0\n",
        "SUBJECT TO\n",
        "Must_assign_c0: x_('v0',_'c0') + x_('v0',_('c0',_'c1'))\n",
        " + x_('v1',_('c0',_'c2')) + x_('v1',_('c0',_'c3')) + y_c0 = 1\n",
        "\n",
        "Must_assign_c1: x_('v0',_('c0',_'c1')) + x_('v0',_('c1',_'c3')) + y_c1 = 1\n",
        "\n",
        "Must_assign_c2: x_('v1',_('c0',_'c2')) + y_c2 = 1\n",
        "\n",
        "Must_assign_c3: x_('v0',_('c1',_'c3')) + x_('v1',_'c3')\n",
        " + x_('v1',_('c0',_'c3')) + y_c3 = 1\n",
        "\n",
        "Vehicle_assign_v0: x_('v0',_'c0') + x_('v0',_('c0',_'c1'))\n",
        " + x_('v0',_('c1',_'c3')) <= 1\n",
        "\n",
        "Vehicle_assign_v1: x_('v1',_'c3') + x_('v1',_('c0',_'c2'))\n",
        " + x_('v1',_('c0',_'c3')) <= 1\n",
        "\n",
        "VARIABLES\n",
        "x_('v0',_'c0') <= 1 Continuous\n",
        "x_('v0',_('c0',_'c1')) <= 1 Continuous\n",
        "x_('v0',_('c1',_'c3')) <= 1 Continuous\n",
        "x_('v1',_'c3') <= 1 Continuous\n",
        "x_('v1',_('c0',_'c2')) <= 1 Continuous\n",
        "x_('v1',_('c0',_'c3')) <= 1 Continuous\n",
        "y_c0 <= 1 Continuous\n",
        "y_c1 <= 1 Continuous\n",
        "y_c2 <= 1 Continuous\n",
        "y_c3 <= 1 Continuous\n",
        "\n"
       ]
      }
     ],
     "prompt_number": 178
    },
    {
     "cell_type": "heading",
     "level": 1,
     "metadata": {},
     "source": [
      "\u96c6\u5408\u5206\u5272\u554f\u984c\uff1a\u53cc\u5bfe\u5909\u6570\u3092\u53d6\u308a\u51fa\u3059"
     ]
    },
    {
     "cell_type": "markdown",
     "metadata": {},
     "source": [
      "\u3053\u308c\u3067\uff0c\u96c6\u5408\u5206\u5272\u554f\u984c\u306e\u7dda\u5f62\u7de9\u548c\u554f\u984c\u304c\u5b9a\u7fa9\u3067\u304d\u307e\u3057\u305f\uff0e\u3055\u3066\uff0c\u5217\u751f\u6210\u6cd5\u3067\u306f\uff0c\u3053\u306e\u7dda\u5f62\u7de9\u548c\u554f\u984c\u3092\u89e3\u3044\u3066\u5f97\u3089\u308c\u308b\u53cc\u5bfe\u5909\u6570\u306e\u5024\u3092\u7528\u3044\u3066\uff0c\u52b9\u7387\u7684\u306a\u5b9f\u884c\u53ef\u80fd\u30eb\u30fc\u30c8\u3092\u65b0\u305f\u306b\u751f\u6210\u30fb\u8ffd\u52a0\u3057\u3066\u3044\u304d\u307e\u3059\uff0e\u53cc\u5bfe\u5909\u6570\u306f\u5236\u7d04\u5f0f\u6bce\u306b\u5f97\u3089\u308c\u307e\u3059\uff0e\u8ca8\u7269\u306e\u5272\u5f53\u5236\u7d04\u5f0f\u306b\u5bfe\u3059\u308b\u53cc\u5bfe\u5909\u6570\u306e\u5024\u3092\u8f9e\u66f8dual_cargo\u306b\uff0c\u904b\u642c\u8eca\u306e\u4f7f\u7528\u56de\u6570\u306e\u5236\u7d04\u5f0f\u306b\u5bfe\u3059\u308b\u53cc\u5bfe\u5909\u6570\u306e\u5024\u3092\u8f9e\u66f8dual_ship\u306b\u4fdd\u5b58\u3059\u308b\u3053\u3068\u306b\u3057\u307e\u3059\uff0e"
     ]
    },
    {
     "cell_type": "code",
     "collapsed": false,
     "input": [
      "dual_cargo,dual_vehicle={},{}"
     ],
     "language": "python",
     "metadata": {},
     "outputs": [],
     "prompt_number": 179
    },
    {
     "cell_type": "markdown",
     "metadata": {},
     "source": [
      "\u307e\u305a\uff0c\u5b9a\u7fa9\u3057\u305f\u7dda\u5f62\u7de9\u548c\u554f\u984c\u3092\u89e3\u304d\u307e\u3059\uff0e"
     ]
    },
    {
     "cell_type": "code",
     "collapsed": false,
     "input": [
      "status = routing_model.solve()\n",
      "print pulp.LpStatus[status]"
     ],
     "language": "python",
     "metadata": {},
     "outputs": [
      {
       "output_type": "stream",
       "stream": "stdout",
       "text": [
        "Optimal\n"
       ]
      }
     ],
     "prompt_number": 180
    },
    {
     "cell_type": "markdown",
     "metadata": {},
     "source": [
      "\u3055\u3066\uff0crouting_model\u3092\u5b9a\u7fa9\u3059\u308b\u3068\u304d\uff0c\u5236\u7d04\u5f0f\u306b\u540d\u524d\u3092\u4ed8\u3051\u307e\u3057\u305f\uff0e\u3053\u306e\u540d\u524d\u3092\u7528\u3044\u3066\uff0c\u5236\u7d04\u5f0f\u306b\u5bfe\u3059\u308b\u53cc\u5bfe\u5909\u6570\u306e\u5024\u3092\u53d6\u5f97\u3057\u307e\u3059\uff0e\u8ca8\u7269\u306e\u5272\u5f53\u5236\u7d04\u5f0f\u306b\u5bfe\u3059\u308b\u53cc\u5bfe\u5909\u6570\u306e\u5024\u306f"
     ]
    },
    {
     "cell_type": "code",
     "collapsed": false,
     "input": [
      "for c in cargos:\n",
      "    dual_cargo[c]=routing_model.constraints[\"Must_assign_%s\"%c].pi"
     ],
     "language": "python",
     "metadata": {},
     "outputs": [],
     "prompt_number": 181
    },
    {
     "cell_type": "markdown",
     "metadata": {},
     "source": [
      "\u904b\u642c\u8eca\u306e\u4f7f\u7528\u56de\u6570\u306e\u5236\u7d04\u5f0f\u306b\u5bfe\u3059\u308b\u53cc\u5bfe\u5909\u6570\u306e\u5024\u306f"
     ]
    },
    {
     "cell_type": "code",
     "collapsed": true,
     "input": [
      "for v in vehicles:\n",
      "    dual_vehicle[v]=routing_model.constraints[\"Vehicle_assign_%s\"%v].pi"
     ],
     "language": "python",
     "metadata": {},
     "outputs": [],
     "prompt_number": 182
    },
    {
     "cell_type": "code",
     "collapsed": false,
     "input": [
      "print dual_cargo,dual_vehicle"
     ],
     "language": "python",
     "metadata": {},
     "outputs": [
      {
       "output_type": "stream",
       "stream": "stdout",
       "text": [
        "{'c3': 150.0, 'c2': 1000.0, 'c1': 150.0, 'c0': 0.0} {'v0': 0.0, 'v1': 0.0}\n"
       ]
      }
     ],
     "prompt_number": 183
    },
    {
     "cell_type": "heading",
     "level": 1,
     "metadata": {},
     "source": [
      "\u96c6\u5408\u5206\u5272\u554f\u984c\uff1a\u5217\u3092\u751f\u6210\u3059\u308b"
     ]
    },
    {
     "cell_type": "heading",
     "level": 2,
     "metadata": {},
     "source": [
      "networkx\u3067\u90e8\u5206\u554f\u984c\u3092\u5b9a\u7fa9\u3059\u308b"
     ]
    },
    {
     "cell_type": "markdown",
     "metadata": {},
     "source": [
      "\u4e0a\u306e\u4f8b\u3067\u306f\uff0c\u5404\u904b\u642c\u8eca\u306e\u5b9f\u884c\u53ef\u80fd\u30eb\u30fc\u30c8\u304c\u65e2\u77e5\u3067\u3042\u308b\u3068\u3057\u3066\u3044\u307e\u3057\u305f\uff0e\u3057\u304b\u3057\uff0c\u5b9f\u969b\u306b\u306f\u5b9f\u884c\u53ef\u80fd\u30eb\u30fc\u30c8\u306f\u3059\u3079\u3066\u306f\u308f\u304b\u3089\u306a\u3044\u3068\u304d\u3082\u3042\u308a\u307e\u3059\uff0e\u3053\u306e\u3088\u3046\u306a\u3068\u304d\u306f\uff0c\u5b9f\u884c\u53ef\u80fd\u30eb\u30fc\u30c8\u304cs-t\u30d1\u30b9\u3068\u3057\u3066\u8868\u308f\u3055\u308c\u308b\u3088\u3046\u306a\u30cd\u30c3\u30c8\u30ef\u30fc\u30af\u3092\u5b9a\u7fa9\u3057\u3066\uff0c\u305d\u306e\u4e0a\u306e\u30d1\u30b9\u3068\u3057\u3066\u6c42\u3081\u308b\u306e\u304c\u4fbf\u5229\u3067\u3059\uff0e\u3053\u3053\u3067\u306f\uff0c\u30ce\u30fc\u30c9\u96c6\u5408{s,c0,c1,c2,c3,t}\uff0c\u30a2\u30fc\u30af\u96c6\u5408{(s,c0),(s,c1),(c0,c1),(c0,c2),(c0,c3),(c1,c3),(c2,t),(c3,c2),(c3,t)}\u304b\u3089\u5b9a\u7fa9\u3055\u308c\u308b\u30cd\u30c3\u30c8\u30ef\u30fc\u30af\u3092\u7528\u3044\u307e\u3059\uff0e\u5404\u30a2\u30fc\u30af\u306b\u306f\u9069\u5f53\u306b\u30b3\u30b9\u30c8\u3092\u5b9a\u7fa9\u3057\u3066\u304a\u304d\u307e\u3059\u3002\n"
     ]
    },
    {
     "cell_type": "code",
     "collapsed": false,
     "input": [
      "import networkx as nx\n",
      "G={}\n",
      "G['v0']=nx.DiGraph()\n",
      "G['v0'].add_weighted_edges_from([('s','c0',100),('s','c1',50),('c0','c1',20),('c0','c2',40),('c0','c3',30),('c1','c3',35),('c2','t',70),('c3','c2',15),('c3','t',45)])\n",
      "G['v1']=nx.DiGraph()\n",
      "G['v1'].add_weighted_edges_from([('s','c0',150),('s','c1',10),('c0','c2',40),('c0','c3',30),('c1','c3',35),('c2','t',70),('c3','t',45)])\n",
      "\n"
     ],
     "language": "python",
     "metadata": {},
     "outputs": [],
     "prompt_number": 184
    },
    {
     "cell_type": "code",
     "collapsed": false,
     "input": [
      "import networkx as nx\n",
      "pos=nx.shell_layout(G['v0']);\n",
      "nx.draw_shell(G['v0'],node_size=1000,node_color='w');\n",
      "nx.draw_networkx_edge_labels(G['v0'],pos);"
     ],
     "language": "python",
     "metadata": {},
     "outputs": [
      {
       "metadata": {},
       "output_type": "display_data",
       "png": "[encoded data removed]",
       "text": [
        "<matplotlib.figure.Figure at 0x1065bf150>"
       ]
      }
     ],
     "prompt_number": 185
    },
    {
     "cell_type": "code",
     "collapsed": false,
     "input": [
      "import networkx as nx\n",
      "pos=nx.shell_layout(G['v1']);\n",
      "nx.draw_shell(G['v1'],node_size=1000,node_color='w');\n",
      "nx.draw_networkx_edge_labels(G['v1'],pos);"
     ],
     "language": "python",
     "metadata": {},
     "outputs": [
      {
       "metadata": {},
       "output_type": "display_data",
       "png": "[encoded data removed]",
       "text": [
        "<matplotlib.figure.Figure at 0x1067c62d0>"
       ]
      }
     ],
     "prompt_number": 186
    },
    {
     "cell_type": "markdown",
     "metadata": {},
     "source": [
      "\u3053\u306e\u304f\u3089\u3044\u306e\u898f\u6a21\u306e\u30cd\u30c3\u30c8\u30ef\u30fc\u30af\u3060\u3068\uff0c\u3059\u3079\u3066\u306es-t\u30d1\u30b9\u3092\u5217\u6319\u3057\u3066\u3082\u305f\u3044\u3057\u305f\u6570\u306b\u306f\u306a\u308a\u307e\u305b\u3093\uff0e\u3057\u304b\u3057\uff0c\u5b9f\u52d9\u898f\u6a21\u306e\u554f\u984c\u4f8b\u3060\u3068\uff0cs-t\u30d1\u30b9\u306e\u6570\u306f\u6570\u5341\u4e07\u4ee5\u4e0a\u306b\u306a\u308b\u3053\u3068\u306f\u666e\u901a\u306b\u3042\u308a\u307e\u3059\uff0e\u3057\u305f\u304c\u3063\u3066\uff0c\u3059\u3079\u3066\u306e\u30d1\u30b9\u3092\u5217\u6319\u3059\u308b\u3053\u3068\u306f\u907f\u3051\u305f\u307b\u3046\u304c\u3088\u3044\u3067\u3059\uff0e\u305d\u3053\u3067\uff0c\u5b9f\u884c\u53ef\u80fd\u30eb\u30fc\u30c8\u306e\u90e8\u5206\u96c6\u5408\u3067\u5b9a\u7fa9\u3057\u305f\u96c6\u5408\u5206\u5272\u554f\u984c\u306e\u7dda\u5f62\u7de9\u548c\u554f\u984c\u306e\u53cc\u5bfe\u5909\u6570\u306e\u5024\u3092\u7528\u3044\u3066\uff0c\u53cd\u5fa9\u7684\u306b\u30eb\u30fc\u30c8\uff08s-t\u30d1\u30b9\uff09\u3092\u751f\u6210\u3059\u308b\u65b9\u6cd5\u304c\u6709\u52b9\u3067\u3059\uff0e"
     ]
    },
    {
     "cell_type": "heading",
     "level": 2,
     "metadata": {},
     "source": [
      "\u5217\u304c\u7a7a\u306e\u96c6\u5408\u5206\u5272\u554f\u984c\uff08\u7dda\u5f62\u7de9\u548c\u554f\u984c\uff09\u001c",
      "\n",
      "\n",
      "\n",
      "\u3092\u5b9a\u7fa9\u3059\u308b"
     ]
    },
    {
     "cell_type": "markdown",
     "metadata": {},
     "source": [
      "\u307e\u305a\uff0c\u5b9f\u884c\u53ef\u80fd\u30eb\u30fc\u30c8\u304c\u7a7a\u306e\u72b6\u614b\u3067\uff0c\u96c6\u5408\u5206\u5272\u554f\u984c\u3092\u5b9a\u7fa9\u3057\u307e\u3059\uff0e"
     ]
    },
    {
     "cell_type": "code",
     "collapsed": false,
     "input": [
      "import pulp\n",
      "cargos=[\"c0\",\"c1\",\"c2\",\"c3\"]\n",
      "vehicles,feas_rt=['v0','v1'],[]\n",
      "v_feas_rt={}\n",
      "v_feas_rt['v0'],v_feas_rt['v1']=[],[]\n",
      "for v in vehicles:\n",
      "\tfeas_rt+=v_feas_rt[v]\n",
      "\n",
      "master_p=pulp.LpProblem(\"MasterProblem\",pulp.LpMinimize)\n",
      "x=pulp.LpVariable.dicts('x',feas_rt,lowBound=0,upBound=1,cat=pulp.LpContinuous)\n",
      "y=pulp.LpVariable.dicts('y',cargos,lowBound=0,upBound=1,cat=pulp.LpContinuous)\n",
      "for c in cargos:\n",
      "    master_p+=sum([x[route] for route in feas_rt if c in route[1]])+y[c]==1,\"Must_assign_%s\"%c\n",
      "#for v in vehicles:\n",
      "#    master_p += sum( [x[route] for route in v_feas_rt[v]])<=1,\"Vehicle_assign_%s\"%v\n",
      "master_p+=sum([route_cost[route]*x[route] for route in feas_rt])+sum([1000*y[c] for c in cargos])\n",
      "print master_p\n"
     ],
     "language": "python",
     "metadata": {},
     "outputs": [
      {
       "output_type": "stream",
       "stream": "stdout",
       "text": [
        "MasterProblem:\n",
        "MINIMIZE\n",
        "1000*y_c0 + 1000*y_c1 + 1000*y_c2 + 1000*y_c3 + 0.0\n",
        "SUBJECT TO\n",
        "Must_assign_c0: y_c0 = 1\n",
        "\n",
        "Must_assign_c1: y_c1 = 1\n",
        "\n",
        "Must_assign_c2: y_c2 = 1\n",
        "\n",
        "Must_assign_c3: y_c3 = 1\n",
        "\n",
        "VARIABLES\n",
        "y_c0 <= 1 Continuous\n",
        "y_c1 <= 1 Continuous\n",
        "y_c2 <= 1 Continuous\n",
        "y_c3 <= 1 Continuous\n",
        "\n"
       ]
      }
     ],
     "prompt_number": 187
    },
    {
     "cell_type": "code",
     "collapsed": false,
     "input": [
      "status=master_p.solve()\n",
      "print pulp.LpStatus[status]"
     ],
     "language": "python",
     "metadata": {},
     "outputs": [
      {
       "output_type": "stream",
       "stream": "stdout",
       "text": [
        "Optimal\n"
       ]
      }
     ],
     "prompt_number": 188
    },
    {
     "cell_type": "heading",
     "level": 2,
     "metadata": {},
     "source": [
      "\u53cc\u5bfe\u5909\u6570\u306e\u5024\u3092\u53d6\u308a\u51fa\u3057\uff0c\u90e8\u5206\u554f\u984c\u306e\u30b3\u30b9\u30c8\u306b\u53cd\u6620\u3059\u308b"
     ]
    },
    {
     "cell_type": "markdown",
     "metadata": {},
     "source": [
      "\u6b21\u306b\uff0c\u5404\u8ca8\u7269\u306e\u5272\u308a\u5f53\u3066\u5236\u7d04\u5f0f\u306b\u5bfe\u3059\u308b\u53cc\u5bfe\u5909\u6570\u306e\u5024\u3092\u53d6\u308a\u51fa\u3057\u307e\u3059\uff0e"
     ]
    },
    {
     "cell_type": "code",
     "collapsed": false,
     "input": [
      "dual_cargo={}\n",
      "for c in cargos:\n",
      "\tdual_cargo[c]=master_p.constraints[\"Must_assign_%s\"%c].pi\n",
      "print dual_cargo\n"
     ],
     "language": "python",
     "metadata": {},
     "outputs": [
      {
       "output_type": "stream",
       "stream": "stdout",
       "text": [
        "{'c3': 1000.0, 'c2': 1000.0, 'c1': 1000.0, 'c0': 1000.0}\n"
       ]
      }
     ],
     "prompt_number": 189
    },
    {
     "cell_type": "markdown",
     "metadata": {},
     "source": [
      "\u3053\u308c\u3089\u306e\u5024\u3092\u4f7f\u3063\u3066\uff0c\u30cd\u30c3\u30c8\u30ef\u30fc\u30af\u306e\u5404\u30a2\u30fc\u30af\u306e\u30b3\u30b9\u30c8\u3092\u5b9a\u7fa9\u3057\u76f4\u3057\u307e\u3059\uff0e\u5177\u4f53\u7684\u306b\u306f\uff0c\u30a2\u30fc\u30af(i,j)\u306e\u59cb\u70b9i\u304c\u8ca8\u7269\u3092\u8868\u308f\u3059\uff08=\u59cb\u70b9s\u3067\u306a\u3044\uff09\u3068\u304d\u306b\u306f\uff0c\u30b3\u30b9\u30c8\u3092\uff0c[\u30a2\u30fc\u30af\u306e(i,j)\u306e\u91cd\u307f]-dual_cargo[i]\u306b\u66f4\u65b0\u3057\u307e\u3059\uff0e"
     ]
    },
    {
     "cell_type": "markdown",
     "metadata": {},
     "source": [
      "\u5b9f\u969b\u306e\u914d\u9001\u8a08\u753b\u554f\u984c\u3067\u306f\uff0c\u3053\u3046\u3057\u3066\u30a2\u30fc\u30af\u306e\u30b3\u30b9\u30c8\u3092\u5b9a\u7fa9\u3057\u76f4\u3057\u305f\u30cd\u30c3\u30c8\u30ef\u30fc\u30af\u4e0a\u3067\uff08\u8ca0\u306e\u30b3\u30b9\u30c8\u3092\u6301\u3064\uff09\u6700\u77ed\u8def\u554f\u984c\u3092\u89e3\u304f\u3053\u3068\u306b\u3088\u3063\u3066\uff0c\u96c6\u5408\u5206\u5272\u554f\u984c\u306b\u8ffd\u52a0\u3059\u308b\u3079\u304d\u5b9f\u884c\u30eb\u30fc\u30c8\u3092\u751f\u6210\u3057\u307e\u3059\uff0e\u3053\u3053\u3067\u306f\u7c21\u5358\u306e\u305f\u3081\uff0c\u6700\u77ed\u8def\u554f\u984c\u3092\u89e3\u304f\u3053\u3068\u306f\u305b\u305a\uff0c\u5168\u5217\u6319\u3057\u305fs-t\u30d0\u30b9\u306e\u4e2d\u304b\u3089\u6700\u3082\u8cbb\u7528\u304c\u3061\u3044\u3055\u304f\u306a\u308b\u3082\u306e\u3092\u9078\u3076\u3053\u3068\u306b\u3057\u307e\u3059\uff0e"
     ]
    },
    {
     "cell_type": "markdown",
     "metadata": {},
     "source": [
      "\u5148\u307b\u3069\u5b9a\u7fa9\u3057\u305f\u30cd\u30c3\u30c8\u30ef\u30fc\u30af\u4e0a\u3067\u306es-t\u30d1\u30b9\u3092\u5217\u6319\u3059\u308b\u306b\u306f\uff0cnetworkx\u306eall_simple_paths()\u3068\u3044\u3046\u547d\u4ee4\u3092\u4f7f\u3046\u3053\u3068\u304c\u3067\u304d\u307e\u3059\uff0e"
     ]
    },
    {
     "cell_type": "markdown",
     "metadata": {},
     "source": [
      "\u3055\u3066\uff0call_simple_paths(G['v0']\uff09\u3067\u5f97\u3089\u308c\u308b\u5404s-t\u30d1\u30b9\u306b\u5bfe\u3057\u3066\uff0c\u542b\u307e\u308c\u308b\u30a2\u30fc\u30af\u306e\u30b3\u30b9\u30c8\u306e\u548c\u3092\u6c42\u3081\u307e\u3059\uff0e"
     ]
    },
    {
     "cell_type": "code",
     "collapsed": false,
     "input": [
      "print \"s-t paths for v0\"\n",
      "for path in nx.all_simple_paths(G['v0'],source='s',target='t'):\n",
      "\ttcost=0\n",
      "\tfor i in range(len(path)-1):\n",
      "\t\ttcost+=G['v0'][path[i]][path[i+1]]['weight']\n",
      "\t\tif path[i]!='s':\n",
      "\t\t\ttcost-=dual_cargo[path[i]]\n",
      "\tprint path,tcost\t\n",
      "\t"
     ],
     "language": "python",
     "metadata": {},
     "outputs": [
      {
       "output_type": "stream",
       "stream": "stdout",
       "text": [
        "s-t paths for v0\n",
        "['s', 'c1', 'c3', 'c2', 't'] -2830.0\n",
        "['s', 'c1', 'c3', 't'] -1870.0\n",
        "['s', 'c0', 'c3', 'c2', 't'] -2785.0\n",
        "['s', 'c0', 'c3', 't'] -1825.0\n",
        "['s', 'c0', 'c2', 't'] -1790.0\n",
        "['s', 'c0', 'c1', 'c3', 'c2', 't'] -3760.0\n",
        "['s', 'c0', 'c1', 'c3', 't'] -2800.0\n"
       ]
      }
     ],
     "prompt_number": 190
    },
    {
     "cell_type": "markdown",
     "metadata": {},
     "source": [
      "\u3053\u308c\u3089\u304b\u3089\uff0c\u6700\u3082\u30b3\u30b9\u30c8\u306e\u3061\u3044\u3055\u3044s-t\u30d1\u30b9\u306f\uff0c['s', 'c0', 'c1', 'c3', 'c2', 't'] \u3067\u3042\u308b\u3053\u3068\u304c\u5206\u304b\u308a\u307e\u3059\uff0e\u540c\u69d8\u306b\uff0c\u904b\u642c\u8ecav1\u306b\u5bfe\u3059\u308b\u30cd\u30c3\u30c8\u30ef\u30fc\u30af\u4e0a\u306es-t\u30d1\u30b9\u306e\u30b3\u30b9\u30c8\u3092\u6c42\u3081\u307e\u3059\uff0e"
     ]
    },
    {
     "cell_type": "code",
     "collapsed": false,
     "input": [
      "for path in nx.all_simple_paths(G['v1'],source='s',target='t'):\n",
      "\ttcost=0\n",
      "\tfor i in range(len(path)-1):\n",
      "\t\ttcost+=G['v0'][path[i]][path[i+1]]['weight']\n",
      "\t\tif path[i]!='s':\n",
      "\t\t\ttcost-=dual_cargo[path[i]]\n",
      "\tprint path,tcost\t\n",
      "\t"
     ],
     "language": "python",
     "metadata": {},
     "outputs": [
      {
       "output_type": "stream",
       "stream": "stdout",
       "text": [
        "['s', 'c1', 'c3', 't'] -1870.0\n",
        "['s', 'c0', 'c3', 't'] -1825.0\n",
        "['s', 'c0', 'c2', 't'] -1790.0\n"
       ]
      }
     ],
     "prompt_number": 191
    },
    {
     "cell_type": "markdown",
     "metadata": {},
     "source": [
      "\u3053\u306e\u3046\u3061\u6700\u3082\u30b3\u30b9\u30c8\u306e\u5c0f\u3055\u3044s-t\u30d1\u30b9\u306f\uff0c['s', 'c1', 'c3', 't'] \u3067\u3042\u308b\u3053\u3068\u304c\u5206\u304b\u308a\u307e\u3059\uff0e"
     ]
    },
    {
     "cell_type": "heading",
     "level": 2,
     "metadata": {},
     "source": [
      "s-t\u30d1\u30b9\u3092\u96c6\u5408\u5206\u5272\u554f\u984c\u306e\u5217\u306b\u8ffd\u52a0\u3059\u308b"
     ]
    },
    {
     "cell_type": "markdown",
     "metadata": {},
     "source": [
      "\u3068\u3044\u3046\u3053\u3068\u3067\uff0cv0\u306b\u5bfe\u3059\u308b\u5b9f\u884c\u53ef\u80fd\u30eb\u30fc\u30c8\u3068\u3057\u3066\uff0c['s', 'c0', 'c1', 'c3', 'c2', 't']\u3092\uff0cv1\u306b\u5bfe\u3059\u308b\u5b9f\u884c\u53ef\u80fd\u30eb\u30fc\u30c8\u3068\u3057\u3066\uff0c['s', 'c1', 'c3', 't']\u3092\u8ffd\u52a0\u3059\u308b\u3053\u3068\u306b\u3057\u307e\u3059\uff0e\u5177\u4f53\u7684\u306b\u306f\uff0cv_feas_rt['v0']\uff0cv_feas_rt['v1']\u306b\uff0c\u305d\u306e\u30eb\u30fc\u30c8\u3067\u51e6\u7406\u3055\u308c\u308b\u8ca8\u7269\u3092\u8981\u7d20\u3068\u3059\u308b\u8981\u7d20\u3092\u52a0\u3048\u307e\u3059\uff0e\u540c\u6642\u306b\uff0croute_cost\u306b\u3082\u30b3\u30b9\u30c8\u3092\u8868\u308f\u3059\u8981\u7d20\u3092\u8ffd\u52a0\u3057\u307e\u3059\u304c\uff0c\u3053\u306e\u30b3\u30b9\u30c8\u3068\u3057\u3066\u306f\uff0c\u53cc\u5bfe\u5909\u6570\u306e\u5024\u3092\u53d6\u308a\u9664\u3044\u305f\u6b63\u5473\u306e\u30a2\u30fc\u30af\u306e\u30b3\u30b9\u30c8\u306e\u548c\u3092\u6307\u5b9a\u3057\u307e\u3059\uff0e"
     ]
    },
    {
     "cell_type": "code",
     "collapsed": true,
     "input": [
      "route_cost={}\n",
      "v_feas_rt['v0']+=[('v0',('c0','c1','c2','c3'))]\n",
      "v_feas_rt['v1']+=[('v1',('c1','c3'))]\n",
      "route_cost[('v0',('c0','c1','c2','c3'))]=240\n",
      "route_cost[('v1',('c1','c3'))]=90"
     ],
     "language": "python",
     "metadata": {},
     "outputs": [],
     "prompt_number": 192
    },
    {
     "cell_type": "markdown",
     "metadata": {},
     "source": [
      "\u3053\u308c\u3067\uff0c\u4e00\u5ea6\u306e\u53cd\u5fa9\u304c\u7d42\u4e86\u3067\u3059\uff0e\u6b21\u306b\uff0c\u4e8c\u756a\u306e\u53cd\u5fa9\u3092\u958b\u59cb\u3057\u307e\u3059\uff0e"
     ]
    },
    {
     "cell_type": "heading",
     "level": 2,
     "metadata": {},
     "source": [
      "\u96c6\u5408\u5206\u5272\u554f\u984c\u306e\u7dda\u5f62\u7de9\u548c\u3092\u518d\u5ea6\u89e3\u304f"
     ]
    },
    {
     "cell_type": "code",
     "collapsed": false,
     "input": [
      "import pulp\n",
      "cargos=[\"c0\",\"c1\",\"c2\",\"c3\"]\n",
      "for v in vehicles:\n",
      "\tfeas_rt+=v_feas_rt[v]\n",
      "master_p=pulp.LpProblem(\"MasterProblem\",pulp.LpMinimize)\n",
      "x=pulp.LpVariable.dicts('x',feas_rt,lowBound=0,upBound=1,cat=pulp.LpContinuous)\n",
      "y=pulp.LpVariable.dicts('y',cargos,lowBound=0,upBound=1,cat=pulp.LpContinuous)\n",
      "for c in cargos:\n",
      "    master_p+=sum([x[route] for route in feas_rt if c in route[1]])+y[c]==1,\"Must_assign_%s\"%c\n",
      "for v in vehicles:\n",
      "    master_p += sum( [x[route] for route in v_feas_rt[v]])<=1,\"Vehicle_assign_%s\"%v\n",
      "master_p+=sum([route_cost[route]*x[route] for route in feas_rt])+sum([1000*y[c] for c in cargos])\n",
      "print master_p\n"
     ],
     "language": "python",
     "metadata": {},
     "outputs": [
      {
       "output_type": "stream",
       "stream": "stdout",
       "text": [
        "MasterProblem:\n",
        "MINIMIZE\n",
        "480*x_('v0',_('c0',_'c1',_'c2',_'c3')) + 180*x_('v1',_('c1',_'c3')) + 1000*y_c0 + 1000*y_c1 + 1000*y_c2 + 1000*y_c3 + 0\n",
        "SUBJECT TO\n",
        "Must_assign_c0: 2 x_('v0',_('c0',_'c1',_'c2',_'c3')) + y_c0 = 1\n",
        "\n",
        "Must_assign_c1: 2 x_('v0',_('c0',_'c1',_'c2',_'c3'))\n",
        " + 2 x_('v1',_('c1',_'c3')) + y_c1 = 1\n",
        "\n",
        "Must_assign_c2: 2 x_('v0',_('c0',_'c1',_'c2',_'c3')) + y_c2 = 1\n",
        "\n",
        "Must_assign_c3: 2 x_('v0',_('c0',_'c1',_'c2',_'c3'))\n",
        " + 2 x_('v1',_('c1',_'c3')) + y_c3 = 1\n",
        "\n",
        "Vehicle_assign_v0: x_('v0',_('c0',_'c1',_'c2',_'c3')) <= 1\n",
        "\n",
        "Vehicle_assign_v1: x_('v1',_('c1',_'c3')) <= 1\n",
        "\n",
        "VARIABLES\n",
        "x_('v0',_('c0',_'c1',_'c2',_'c3')) <= 1 Continuous\n",
        "x_('v1',_('c1',_'c3')) <= 1 Continuous\n",
        "y_c0 <= 1 Continuous\n",
        "y_c1 <= 1 Continuous\n",
        "y_c2 <= 1 Continuous\n",
        "y_c3 <= 1 Continuous\n",
        "\n"
       ]
      }
     ],
     "prompt_number": 195
    },
    {
     "cell_type": "markdown",
     "metadata": {},
     "source": [
      "\u3053\u308c\u3067\u65b0\u3057\u3044\u96c6\u5408\u5206\u5272\u554f\u984c\uff08\u306e\u7dda\u5f62\u7de9\u548c\u554f\u984c\uff09\u304c\u5b9a\u7fa9\u3055\u308c\u307e\u3057\u305f\uff0e\u3053\u308c\u3092\u89e3\u304d\u307e\u3059\uff0e\u4eca\u5ea6\u306f\uff0c\u8239\u8236\u306e\u4f7f\u7528\u56de\u6570\u306b\u95a2\u3059\u308b\u5236\u7d04\u5f0f\u304c\u7a7a\u3067\u306f\u306a\u3044\u306e\u3067\uff0c\u3053\u308c\u3089\u306e\u5236\u7d04\u5f0f\u306b\u5bfe\u3059\u308b\u53cc\u5bfe\u5909\u6570\u3082\u53d6\u308a\u51fa\u3057\u307e\u3059\uff0e"
     ]
    },
    {
     "cell_type": "code",
     "collapsed": false,
     "input": [
      "status=master_p.solve()\n",
      "print pulp.LpStatus[status]\n",
      "dual_cargo,dual_vehicle={},{}\n",
      "for c in cargos:\n",
      "\tdual_cargo[c]=master_p.constraints[\"Must_assign_%s\"%c].pi\n",
      "for v in vehicles:\n",
      "    dual_vehicle[v]=master_p.constraints[\"Vehicle_assign_%s\"%v].pi\n",
      "print dual_cargo,dual_vehicle"
     ],
     "language": "python",
     "metadata": {},
     "outputs": [
      {
       "output_type": "stream",
       "stream": "stdout",
       "text": [
        "Optimal\n",
        "{'c3': 0.0, 'c2': 1000.0, 'c1': 0.0, 'c0': -760.0} {'v0': 0.0, 'v1': 0.0}\n"
       ]
      }
     ],
     "prompt_number": 196
    },
    {
     "cell_type": "heading",
     "level": 2,
     "metadata": {},
     "source": [
      "\u6700\u3082\u52b9\u7387\u306e\u826f\u3044s-t\u30d1\u30b9\u3092\u307f\u3064\u3051\u308b"
     ]
    },
    {
     "cell_type": "markdown",
     "metadata": {},
     "source": [
      "\u3053\u308c\u3089\u306e\u5024\u3092\u30a2\u30fc\u30af\u306e\u30b3\u30b9\u30c8\u306b\u53cd\u6620\u3057\u305f\u72b6\u614b\u3067\uff0c\u6700\u3082\u30b3\u30b9\u30c8\u306e\u5c0f\u3055\u3044s-t\u30d1\u30b9\u3092\u6c42\u3081\u307e\u3059\uff0e"
     ]
    },
    {
     "cell_type": "code",
     "collapsed": false,
     "input": [
      "print \"s-t paths for v0\"\n",
      "for path in nx.all_simple_paths(G['v0'],source='s',target='t'):\n",
      "\ttcost=0\n",
      "\tfor i in range(len(path)-1):\n",
      "\t\ttcost+=G['v0'][path[i]][path[i+1]]['weight']\n",
      "\t\tif path[i]!='s':\n",
      "\t\t\ttcost-=dual_cargo[path[i]]\n",
      "\tprint path,tcost\t\n",
      "print \"s-t paths for v1\"\n",
      "for path in nx.all_simple_paths(G['v1'],source='s',target='t'):\n",
      "\ttcost=0\n",
      "\tfor i in range(len(path)-1):\n",
      "\t\ttcost+=G['v1'][path[i]][path[i+1]]['weight']\n",
      "\t\tif path[i]!='s':\n",
      "\t\t\ttcost-=dual_cargo[path[i]]\n",
      "\tprint path,tcost\t\n",
      "\n",
      "\t"
     ],
     "language": "python",
     "metadata": {},
     "outputs": [
      {
       "output_type": "stream",
       "stream": "stdout",
       "text": [
        "s-t paths for v0\n",
        "['s', 'c1', 'c3', 'c2', 't'] -830.0\n",
        "['s', 'c1', 'c3', 't'] 130.0\n",
        "['s', 'c0', 'c3', 'c2', 't'] -25.0\n",
        "['s', 'c0', 'c3', 't'] 935.0\n",
        "['s', 'c0', 'c2', 't'] -30.0\n",
        "['s', 'c0', 'c1', 'c3', 'c2', 't'] 0.0\n",
        "['s', 'c0', 'c1', 'c3', 't'] 960.0\n",
        "s-t paths for v1\n",
        "['s', 'c1', 'c3', 't'] 90.0\n",
        "['s', 'c0', 'c3', 't'] 985.0\n",
        "['s', 'c0', 'c2', 't'] 20.0\n"
       ]
      }
     ],
     "prompt_number": 198
    },
    {
     "cell_type": "markdown",
     "metadata": {},
     "source": [
      "v0\u306b\u5bfe\u3059\u308b\u30cd\u30c3\u30c8\u30ef\u30fc\u30af\u4e0a\u3067\u6700\u5c0f\u306e\u30b3\u30b9\u30c8\u3092\u3082\u3064s-t\u30d1\u30b9\u306f\uff0c['s', 'c0', 'c1', 'c3', 'c2', 't']\uff0cv1\u306b\u5bfe\u3059\u308b\u30cd\u30c3\u30c8\u30ef\u30fc\u30af\u4e0a\u3067\u306f['s', 'c0', 'c2', 't']\u3067\u3042\u308b\u3053\u3068\u304c\u308f\u304b\u308a\u307e\u3057\u305f\uff0ev0\u306b\u5bfe\u3059\u308b\u6700\u5c0f\u30b3\u30b9\u30c8\u306es-t\u30d1\u30b9\u306f\u5148\u307b\u3069\u8ffd\u52a0\u3057\u305f\u306e\u3068\u540c\u3058\u3067\u3059\u306e\u3067\uff0c\u4eca\u56de\u306f\uff0cv1\u306b\u5bfe\u3059\u308b\u30eb\u30fc\u30c8['s', 'c0', 'c2', 't']\u306e\u307f\u8ffd\u52a0\u3057\u307e\u3059\uff0e"
     ]
    },
    {
     "cell_type": "code",
     "collapsed": false,
     "input": [
      "v_feas_rt['v1']+=[('v1',('c0','c2'))]\n",
      "route_cost[('v1',('c0','c2'))]=260"
     ],
     "language": "python",
     "metadata": {},
     "outputs": [],
     "prompt_number": 199
    },
    {
     "cell_type": "code",
     "collapsed": false,
     "input": [
      "import pulp\n",
      "feas_rt=[]\n",
      "for v in vehicles:\n",
      "\tfeas_rt+=v_feas_rt[v]\n",
      "print feas_rt\n",
      "master_p=pulp.LpProblem(\"MasterProblem\",pulp.LpMinimize)\n",
      "x=pulp.LpVariable.dicts('x',feas_rt,lowBound=0,upBound=1,cat=pulp.LpContinuous)\n",
      "y=pulp.LpVariable.dicts('y',cargos,lowBound=0,upBound=1,cat=pulp.LpContinuous)\n",
      "for c in cargos:\n",
      "    master_p+=sum([x[route] for route in feas_rt if c in route[1]])+y[c]==1,\"Must_assign_%s\"%c\n",
      "for v in vehicles:\n",
      "    master_p+= sum( [x[route] for route in v_feas_rt[v]])<=1,\"Vehicle_assign_%s\"%v\n",
      "master_p+=sum([route_cost[route]*x[route] for route in feas_rt])+sum([1000*y[c] for c in cargos])\n",
      "print master_p"
     ],
     "language": "python",
     "metadata": {},
     "outputs": [
      {
       "output_type": "stream",
       "stream": "stdout",
       "text": [
        "[('v0', ('c0', 'c1', 'c2', 'c3')), ('v1', ('c1', 'c3')), ('v1', ('c0', 'c2'))]\n",
        "MasterProblem:\n",
        "MINIMIZE\n",
        "240*x_('v0',_('c0',_'c1',_'c2',_'c3')) + 260*x_('v1',_('c0',_'c2')) + 90*x_('v1',_('c1',_'c3')) + 1000*y_c0 + 1000*y_c1 + 1000*y_c2 + 1000*y_c3 + 0\n",
        "SUBJECT TO\n",
        "Must_assign_c0: x_('v0',_('c0',_'c1',_'c2',_'c3')) + x_('v1',_('c0',_'c2'))\n",
        " + y_c0 = 1\n",
        "\n",
        "Must_assign_c1: x_('v0',_('c0',_'c1',_'c2',_'c3')) + x_('v1',_('c1',_'c3'))\n",
        " + y_c1 = 1\n",
        "\n",
        "Must_assign_c2: x_('v0',_('c0',_'c1',_'c2',_'c3')) + x_('v1',_('c0',_'c2'))\n",
        " + y_c2 = 1\n",
        "\n",
        "Must_assign_c3: x_('v0',_('c0',_'c1',_'c2',_'c3')) + x_('v1',_('c1',_'c3'))\n",
        " + y_c3 = 1\n",
        "\n",
        "Vehicle_assign_v0: x_('v0',_('c0',_'c1',_'c2',_'c3')) <= 1\n",
        "\n",
        "Vehicle_assign_v1: x_('v1',_('c0',_'c2')) + x_('v1',_('c1',_'c3')) <= 1\n",
        "\n",
        "VARIABLES\n",
        "x_('v0',_('c0',_'c1',_'c2',_'c3')) <= 1 Continuous\n",
        "x_('v1',_('c0',_'c2')) <= 1 Continuous\n",
        "x_('v1',_('c1',_'c3')) <= 1 Continuous\n",
        "y_c0 <= 1 Continuous\n",
        "y_c1 <= 1 Continuous\n",
        "y_c2 <= 1 Continuous\n",
        "y_c3 <= 1 Continuous\n",
        "\n"
       ]
      }
     ],
     "prompt_number": 200
    },
    {
     "cell_type": "code",
     "collapsed": false,
     "input": [
      "status=master_p.solve()\n",
      "print pulp.LpStatus[status]\n",
      "dual_cargo,dual_vehicle={},{}\n",
      "for c in cargos:\n",
      "\tdual_cargo[c]=master_p.constraints[\"Must_assign_%s\"%c].pi\n",
      "for v in vehicles:\n",
      "    dual_vehicle[v]=master_p.constraints[\"Vehicle_assign_%s\"%v].pi\n",
      "print dual_cargo,dual_vehicle"
     ],
     "language": "python",
     "metadata": {},
     "outputs": [
      {
       "output_type": "stream",
       "stream": "stdout",
       "text": [
        "Optimal\n",
        "{'c3': 0.0, 'c2': 240.0, 'c1': 0.0, 'c0': 0.0} {'v0': 0.0, 'v1': 0.0}\n"
       ]
      }
     ],
     "prompt_number": 201
    },
    {
     "cell_type": "code",
     "collapsed": false,
     "input": [
      "print \"s-t paths for v0\"\n",
      "for path in nx.all_simple_paths(G['v0'],source='s',target='t'):\n",
      "\ttcost=0\n",
      "\tfor i in range(len(path)-1):\n",
      "\t\ttcost+=G['v0'][path[i]][path[i+1]]['weight']\n",
      "\t\tif path[i]!='s':\n",
      "\t\t\ttcost-=dual_cargo[path[i]]\n",
      "\tprint path,tcost\t\n",
      "print \"s-t paths for v1\"\n",
      "for path in nx.all_simple_paths(G['v1'],source='s',target='t'):\n",
      "\ttcost=0\n",
      "\tfor i in range(len(path)-1):\n",
      "\t\ttcost+=G['v1'][path[i]][path[i+1]]['weight']\n",
      "\t\tif path[i]!='s':\n",
      "\t\t\ttcost-=dual_cargo[path[i]]\n",
      "\tprint path,tcost\t\n",
      "\n",
      "\t"
     ],
     "language": "python",
     "metadata": {},
     "outputs": [
      {
       "output_type": "stream",
       "stream": "stdout",
       "text": [
        "s-t paths for v0\n",
        "['s', 'c1', 'c3', 'c2', 't'] -70.0\n",
        "['s', 'c1', 'c3', 't'] 130.0\n",
        "['s', 'c0', 'c3', 'c2', 't'] -25.0\n",
        "['s', 'c0', 'c3', 't'] 175.0\n",
        "['s', 'c0', 'c2', 't'] -30.0\n",
        "['s', 'c0', 'c1', 'c3', 'c2', 't'] 0.0\n",
        "['s', 'c0', 'c1', 'c3', 't'] 200.0\n",
        "s-t paths for v1\n",
        "['s', 'c1', 'c3', 't'] 90.0\n",
        "['s', 'c0', 'c3', 't'] 225.0\n",
        "['s', 'c0', 'c2', 't'] 20.0\n"
       ]
      }
     ],
     "prompt_number": 202
    },
    {
     "cell_type": "markdown",
     "metadata": {},
     "source": [
      "v0\u306b\u5bfe\u3059\u308b\u6700\u5c0f\u30b3\u30b9\u30c8\u306es-t\u3000\u30d1\u30b9\u306f\uff0c['s', 'c1', 'c3', 'c2', 't'] ,v1\u306b\u5bfe\u3059\u308bs-t\u30d1\u30b9\u306f['s', 'c0', 'c2', 't'] \u3067\u3059\u304c\uff0cv1\u306b\u5bfe\u3059\u308b\u3000\u30d1\u30b9\u306f\u30b3\u30b9\u30c8\u304c\u6b63\u306a\u306e\u3067\uff0c\u8ffd\u52a0\u3059\u308b\u5fc5\u8981\u306f\u3042\u308a\u307e\u305b\u3093\uff0ev0\u306b\u5bfe\u3059\u308bs-t\u30d1\u30b9\u306e\u307f\u8ffd\u52a0\u3059\u308b\u3053\u3068\u306b\u3057\u307e\u3059\u3002"
     ]
    },
    {
     "cell_type": "code",
     "collapsed": false,
     "input": [
      "v_feas_rt['v0']+=[('v0',('c1','c2','c3'))]\n",
      "route_cost[('v0',('c1','c2','c3'))]=170"
     ],
     "language": "python",
     "metadata": {},
     "outputs": [],
     "prompt_number": 203
    },
    {
     "cell_type": "code",
     "collapsed": false,
     "input": [
      "import pulp\n",
      "feas_rt=[]\n",
      "for v in vehicles:\n",
      "\tfeas_rt+=v_feas_rt[v]\n",
      "master_p=pulp.LpProblem(\"MasterProblem\",pulp.LpMinimize)\n",
      "x=pulp.LpVariable.dicts('x',feas_rt,lowBound=0,upBound=1,cat=pulp.LpContinuous)\n",
      "y=pulp.LpVariable.dicts('y',cargos,lowBound=0,upBound=1,cat=pulp.LpContinuous)\n",
      "for c in cargos:\n",
      "    master_p+=sum([x[route] for route in feas_rt if c in route[1]])+y[c]==1,\"Must_assign_%s\"%c\n",
      "for v in vehicles:\n",
      "    master_p+= sum( [x[route] for route in v_feas_rt[v]])<=1,\"Vehicle_assign_%s\"%v\n",
      "master_p+=sum([route_cost[route]*x[route] for route in feas_rt])+sum([1000*y[c] for c in cargos])\n",
      "print master_p"
     ],
     "language": "python",
     "metadata": {},
     "outputs": [
      {
       "output_type": "stream",
       "stream": "stdout",
       "text": [
        "MasterProblem:\n",
        "MINIMIZE\n",
        "240*x_('v0',_('c0',_'c1',_'c2',_'c3')) + 170*x_('v0',_('c1',_'c2',_'c3')) + 260*x_('v1',_('c0',_'c2')) + 90*x_('v1',_('c1',_'c3')) + 1000*y_c0 + 1000*y_c1 + 1000*y_c2 + 1000*y_c3 + 0\n",
        "SUBJECT TO\n",
        "Must_assign_c0: x_('v0',_('c0',_'c1',_'c2',_'c3')) + x_('v1',_('c0',_'c2'))\n",
        " + y_c0 = 1\n",
        "\n",
        "Must_assign_c1: x_('v0',_('c0',_'c1',_'c2',_'c3'))\n",
        " + x_('v0',_('c1',_'c2',_'c3')) + x_('v1',_('c1',_'c3')) + y_c1 = 1\n",
        "\n",
        "Must_assign_c2: x_('v0',_('c0',_'c1',_'c2',_'c3'))\n",
        " + x_('v0',_('c1',_'c2',_'c3')) + x_('v1',_('c0',_'c2')) + y_c2 = 1\n",
        "\n",
        "Must_assign_c3: x_('v0',_('c0',_'c1',_'c2',_'c3'))\n",
        " + x_('v0',_('c1',_'c2',_'c3')) + x_('v1',_('c1',_'c3')) + y_c3 = 1\n",
        "\n",
        "Vehicle_assign_v0: x_('v0',_('c0',_'c1',_'c2',_'c3'))\n",
        " + x_('v0',_('c1',_'c2',_'c3')) <= 1\n",
        "\n",
        "Vehicle_assign_v1: x_('v1',_('c0',_'c2')) + x_('v1',_('c1',_'c3')) <= 1\n",
        "\n",
        "VARIABLES\n",
        "x_('v0',_('c0',_'c1',_'c2',_'c3')) <= 1 Continuous\n",
        "x_('v0',_('c1',_'c2',_'c3')) <= 1 Continuous\n",
        "x_('v1',_('c0',_'c2')) <= 1 Continuous\n",
        "x_('v1',_('c1',_'c3')) <= 1 Continuous\n",
        "y_c0 <= 1 Continuous\n",
        "y_c1 <= 1 Continuous\n",
        "y_c2 <= 1 Continuous\n",
        "y_c3 <= 1 Continuous\n",
        "\n"
       ]
      }
     ],
     "prompt_number": 204
    },
    {
     "cell_type": "markdown",
     "metadata": {},
     "source": [
      "\u3053\u306e\u554f\u984c\u3092\u89e3\u304f\u3068\uff0c\u3064\u304e\u306e\u3088\u3046\u306b\u306a\u308a\u307e\u3059\uff0e"
     ]
    },
    {
     "cell_type": "code",
     "collapsed": false,
     "input": [
      "status=master_p.solve()\n",
      "print pulp.LpStatus[status]\n",
      "dual_cargo,dual_vehicle={},{}\n",
      "for c in cargos:\n",
      "\tdual_cargo[c]=master_p.constraints[\"Must_assign_%s\"%c].pi\n",
      "for v in vehicles:\n",
      "    dual_vehicle[v]=master_p.constraints[\"Vehicle_assign_%s\"%v].pi\n",
      "print dual_cargo,dual_vehicle"
     ],
     "language": "python",
     "metadata": {},
     "outputs": [
      {
       "output_type": "stream",
       "stream": "stdout",
       "text": [
        "Optimal\n",
        "{'c3': 0.0, 'c2': 170.0, 'c1': 0.0, 'c0': 70.0} {'v0': 0.0, 'v1': 0.0}\n"
       ]
      }
     ],
     "prompt_number": 205
    },
    {
     "cell_type": "code",
     "collapsed": false,
     "input": [
      "print \"s-t paths for v0\"\n",
      "for path in nx.all_simple_paths(G['v0'],source='s',target='t'):\n",
      "\ttcost=0\n",
      "\tfor i in range(len(path)-1):\n",
      "\t\ttcost+=G['v0'][path[i]][path[i+1]]['weight']\n",
      "\t\tif path[i]!='s':\n",
      "\t\t\ttcost-=dual_cargo[path[i]]\n",
      "\tprint path,tcost\t\n",
      "print \"s-t paths for v1\"\n",
      "for path in nx.all_simple_paths(G['v1'],source='s',target='t'):\n",
      "\ttcost=0\n",
      "\tfor i in range(len(path)-1):\n",
      "\t\ttcost+=G['v1'][path[i]][path[i+1]]['weight']\n",
      "\t\tif path[i]!='s':\n",
      "\t\t\ttcost-=dual_cargo[path[i]]\n",
      "\tprint path,tcost\t\n",
      "\n",
      "\t"
     ],
     "language": "python",
     "metadata": {},
     "outputs": [
      {
       "output_type": "stream",
       "stream": "stdout",
       "text": [
        "s-t paths for v0\n",
        "['s', 'c1', 'c3', 'c2', 't'] 0.0\n",
        "['s', 'c1', 'c3', 't'] 130.0\n",
        "['s', 'c0', 'c3', 'c2', 't'] -25.0\n",
        "['s', 'c0', 'c3', 't'] 105.0\n",
        "['s', 'c0', 'c2', 't'] -30.0\n",
        "['s', 'c0', 'c1', 'c3', 'c2', 't'] 0.0\n",
        "['s', 'c0', 'c1', 'c3', 't'] 130.0\n",
        "s-t paths for v1\n",
        "['s', 'c1', 'c3', 't'] 90.0\n",
        "['s', 'c0', 'c3', 't'] 155.0\n",
        "['s', 'c0', 'c2', 't'] 20.0\n"
       ]
      }
     ],
     "prompt_number": 206
    },
    {
     "cell_type": "markdown",
     "metadata": {},
     "source": [
      "v0\u306es-t\u30d1\u30b9\u3067\uff0c\u30b3\u30b9\u30c8\u304c\u8ca0\u306b\u306a\u308b\u3082\u306e\u304c2\u3064\u3042\u308a\u307e\u3059\u306e\u3067\uff0c\u4e21\u65b9\u5165\u308c\u3066\u3057\u307e\u3044\u307e\u3057\u3087\u3046\u3002\u3000"
     ]
    },
    {
     "cell_type": "code",
     "collapsed": false,
     "input": [
      "v_feas_rt['v0']+=[('v0',('c0','c2','c3'))]\n",
      "v_feas_rt['v0']+=[('v0',('c0','c2'))]\n",
      "route_cost[('v0',('c0','c2','c3'))]=215\n",
      "route_cost[('v0',('c0','c2'))]=210"
     ],
     "language": "python",
     "metadata": {},
     "outputs": [],
     "prompt_number": 207
    },
    {
     "cell_type": "code",
     "collapsed": false,
     "input": [
      "import pulp\n",
      "feas_rt=[]\n",
      "for v in vehicles:\n",
      "\tfeas_rt+=v_feas_rt[v]\n",
      "master_p=pulp.LpProblem(\"MasterProblem\",pulp.LpMinimize)\n",
      "x=pulp.LpVariable.dicts('x',feas_rt,lowBound=0,upBound=1,cat=pulp.LpContinuous)\n",
      "y=pulp.LpVariable.dicts('y',cargos,lowBound=0,upBound=1,cat=pulp.LpContinuous)\n",
      "for c in cargos:\n",
      "    master_p+=sum([x[route] for route in feas_rt if c in route[1]])+y[c]==1,\"Must_assign_%s\"%c\n",
      "for v in vehicles:\n",
      "    master_p+= sum( [x[route] for route in v_feas_rt[v]])<=1,\"Vehicle_assign_%s\"%v\n",
      "master_p+=sum([route_cost[route]*x[route] for route in feas_rt])+sum([1000*y[c] for c in cargos])\n",
      "print master_p"
     ],
     "language": "python",
     "metadata": {},
     "outputs": [
      {
       "output_type": "stream",
       "stream": "stdout",
       "text": [
        "MasterProblem:\n",
        "MINIMIZE\n",
        "240*x_('v0',_('c0',_'c1',_'c2',_'c3')) + 210*x_('v0',_('c0',_'c2')) + 215*x_('v0',_('c0',_'c2',_'c3')) + 170*x_('v0',_('c1',_'c2',_'c3')) + 260*x_('v1',_('c0',_'c2')) + 90*x_('v1',_('c1',_'c3')) + 1000*y_c0 + 1000*y_c1 + 1000*y_c2 + 1000*y_c3 + 0\n",
        "SUBJECT TO\n",
        "Must_assign_c0: x_('v0',_('c0',_'c1',_'c2',_'c3')) + x_('v0',_('c0',_'c2'))\n",
        " + x_('v0',_('c0',_'c2',_'c3')) + x_('v1',_('c0',_'c2')) + y_c0 = 1\n",
        "\n",
        "Must_assign_c1: x_('v0',_('c0',_'c1',_'c2',_'c3'))\n",
        " + x_('v0',_('c1',_'c2',_'c3')) + x_('v1',_('c1',_'c3')) + y_c1 = 1\n",
        "\n",
        "Must_assign_c2: x_('v0',_('c0',_'c1',_'c2',_'c3')) + x_('v0',_('c0',_'c2'))\n",
        " + x_('v0',_('c0',_'c2',_'c3')) + x_('v0',_('c1',_'c2',_'c3'))\n",
        " + x_('v1',_('c0',_'c2')) + y_c2 = 1\n",
        "\n",
        "Must_assign_c3: x_('v0',_('c0',_'c1',_'c2',_'c3'))\n",
        " + x_('v0',_('c0',_'c2',_'c3')) + x_('v0',_('c1',_'c2',_'c3'))\n",
        " + x_('v1',_('c1',_'c3')) + y_c3 = 1\n",
        "\n",
        "Vehicle_assign_v0: x_('v0',_('c0',_'c1',_'c2',_'c3')) + x_('v0',_('c0',_'c2'))\n",
        " + x_('v0',_('c0',_'c2',_'c3')) + x_('v0',_('c1',_'c2',_'c3')) <= 1\n",
        "\n",
        "Vehicle_assign_v1: x_('v1',_('c0',_'c2')) + x_('v1',_('c1',_'c3')) <= 1\n",
        "\n",
        "VARIABLES\n",
        "x_('v0',_('c0',_'c1',_'c2',_'c3')) <= 1 Continuous\n",
        "x_('v0',_('c0',_'c2')) <= 1 Continuous\n",
        "x_('v0',_('c0',_'c2',_'c3')) <= 1 Continuous\n",
        "x_('v0',_('c1',_'c2',_'c3')) <= 1 Continuous\n",
        "x_('v1',_('c0',_'c2')) <= 1 Continuous\n",
        "x_('v1',_('c1',_'c3')) <= 1 Continuous\n",
        "y_c0 <= 1 Continuous\n",
        "y_c1 <= 1 Continuous\n",
        "y_c2 <= 1 Continuous\n",
        "y_c3 <= 1 Continuous\n",
        "\n"
       ]
      }
     ],
     "prompt_number": 208
    },
    {
     "cell_type": "code",
     "collapsed": false,
     "input": [
      "status=master_p.solve()\n",
      "print pulp.LpStatus[status]\n",
      "dual_cargo,dual_vehicle={},{}\n",
      "for c in cargos:\n",
      "\tdual_cargo[c]=master_p.constraints[\"Must_assign_%s\"%c].pi\n",
      "for v in vehicles:\n",
      "    dual_vehicle[v]=master_p.constraints[\"Vehicle_assign_%s\"%v].pi\n",
      "print dual_cargo,dual_vehicle"
     ],
     "language": "python",
     "metadata": {},
     "outputs": [
      {
       "output_type": "stream",
       "stream": "stdout",
       "text": [
        "Optimal\n",
        "{'c3': 0.0, 'c2': 140.0, 'c1': 30.0, 'c0': 70.0} {'v0': 0.0, 'v1': 0.0}\n"
       ]
      }
     ],
     "prompt_number": 209
    },
    {
     "cell_type": "code",
     "collapsed": false,
     "input": [
      "print \"s-t paths for v0\"\n",
      "for path in nx.all_simple_paths(G['v0'],source='s',target='t'):\n",
      "\ttcost=0\n",
      "\tfor i in range(len(path)-1):\n",
      "\t\ttcost+=G['v0'][path[i]][path[i+1]]['weight']\n",
      "\t\tif path[i]!='s':\n",
      "\t\t\ttcost-=dual_cargo[path[i]]\n",
      "\tprint path,tcost\t\n",
      "print \"s-t paths for v1\"\n",
      "for path in nx.all_simple_paths(G['v1'],source='s',target='t'):\n",
      "\ttcost=0\n",
      "\tfor i in range(len(path)-1):\n",
      "\t\ttcost+=G['v1'][path[i]][path[i+1]]['weight']\n",
      "\t\tif path[i]!='s':\n",
      "\t\t\ttcost-=dual_cargo[path[i]]\n",
      "\tprint path,tcost\t\n",
      "\n",
      "\t"
     ],
     "language": "python",
     "metadata": {},
     "outputs": [
      {
       "output_type": "stream",
       "stream": "stdout",
       "text": [
        "s-t paths for v0\n",
        "['s', 'c1', 'c3', 'c2', 't'] 0.0\n",
        "['s', 'c1', 'c3', 't'] 100.0\n",
        "['s', 'c0', 'c3', 'c2', 't'] 5.0\n",
        "['s', 'c0', 'c3', 't'] 105.0\n",
        "['s', 'c0', 'c2', 't'] 0.0\n",
        "['s', 'c0', 'c1', 'c3', 'c2', 't'] 0.0\n",
        "['s', 'c0', 'c1', 'c3', 't'] 100.0\n",
        "s-t paths for v1\n",
        "['s', 'c1', 'c3', 't'] 60.0\n",
        "['s', 'c0', 'c3', 't'] 155.0\n",
        "['s', 'c0', 'c2', 't'] 50.0\n"
       ]
      }
     ],
     "prompt_number": 210
    },
    {
     "cell_type": "markdown",
     "metadata": {},
     "source": [
      "\u3053\u308c\u3067\uff0c\u3059\u3079\u3066\u306e\u30b3\u30b9\u30c8\u304c\u975e\u8ca0\u306b\u306a\u308a\u307e\u3057\u305f\uff0e\u3053\u308c\u306f\uff0c\u3082\u3046\u8ffd\u52a0\u3059\u3079\u304ds-t\u3000\u30d1\u30b9\u304c\u306a\u3044\u3053\u3068\u3092\u793a\u3057\u3066\u3044\u307e\u3059\uff0e\u3053\u306e\u72b6\u614b\u304c\uff0c\u7dda\u5f62\u7de9\u548c\u554f\u984c\u304c\u6700\u9069\u306b\u89e3\u3051\u3066\u3044\u308b\u3053\u3068\u3092\u8868\u308f\u3057\u3066\u3044\u307e\u3059\uff0e"
     ]
    },
    {
     "cell_type": "heading",
     "level": 1,
     "metadata": {},
     "source": [
      "\u96c6\u5408\u5206\u5272\u554f\u984c : 0-1\u5909\u6570\u306b\u623b\u3057\u3066\u89e3\u304f"
     ]
    },
    {
     "cell_type": "markdown",
     "metadata": {},
     "source": [
      "\u3055\u3066\uff0c\u3053\u3053\u304b\u3089\uff0c\u3082\u3068\u306e\u96c6\u5408\u5206\u5272\u554f\u984c\u306e\u8fd1\u4f3c\u89e3\u3092\u5f97\u307e\u3059\uff0e\u5177\u4f53\u7684\u306b\u306f\uff0c0-1\u306e\u9023\u7d9a\u5909\u6570\u3068\u3057\u3066\u5b9a\u7fa9\u3057\u3066\u3044\u305f\u3082\u306e\u30920-1\u5909\u6570\u3068\u3057\u3066\u96c6\u5408\u5206\u5272\u554f\u984c\u3092\u5b9a\u7fa9\u3057\u307e\u3059\uff0e\u305d\u3057\u3066\uff0c\u3053\u306e\u96c6\u5408\u5206\u5272 \u554f\u984c\u306e\u89e3\u3092\uff0c\u3082\u3068\u306eVRP\u306e\u8fd1\u4f3c\u89e3\u3068\u3057\u307e\u3059\uff0e"
     ]
    },
    {
     "cell_type": "code",
     "collapsed": false,
     "input": [
      "import pulp\n",
      "feas_rt=[]\n",
      "for v in vehicles:\n",
      "\tfeas_rt+=v_feas_rt[v]\n",
      "spp=pulp.LpProblem(\"MasterProblem\",pulp.LpMinimize)\n",
      "x=pulp.LpVariable.dicts('x',feas_rt,lowBound=0,upBound=1,cat=pulp.LpBinary)\n",
      "y=pulp.LpVariable.dicts('y',cargos,lowBound=0,upBound=1,cat=pulp.LpBinary)\n",
      "for c in cargos:\n",
      "    spp+=sum([x[route] for route in feas_rt if c in route[1]])+y[c]==1,\"Must_assign_%s\"%c\n",
      "for v in vehicles:\n",
      "    spp+= sum( [x[route] for route in v_feas_rt[v]])<=1,\"Vehicle_assign_%s\"%v\n",
      "spp+=sum([route_cost[route]*x[route] for route in feas_rt])+sum([1000*y[c] for c in cargos])\n",
      "status=spp.solve()\n",
      "print pulp.LpStatus[status]\n",
      "\n",
      "for v in spp.variables():\n",
      "    if v.varValue>0.1:\n",
      "        print v.name,v.varValue"
     ],
     "language": "python",
     "metadata": {},
     "outputs": [
      {
       "output_type": "stream",
       "stream": "stdout",
       "text": [
        "Optimal\n",
        "x_('v0',_('c0',_'c1',_'c2',_'c3')) 1.0\n"
       ]
      }
     ],
     "prompt_number": 211
    },
    {
     "cell_type": "code",
     "collapsed": false,
     "input": [],
     "language": "python",
     "metadata": {},
     "outputs": [],
     "prompt_number": 211
    },
    {
     "cell_type": "code",
     "collapsed": false,
     "input": [],
     "language": "python",
     "metadata": {},
     "outputs": [],
     "prompt_number": 211
    },
    {
     "cell_type": "code",
     "collapsed": false,
     "input": [],
     "language": "python",
     "metadata": {},
     "outputs": [],
     "prompt_number": 211
    },
    {
     "cell_type": "code",
     "collapsed": false,
     "input": [],
     "language": "python",
     "metadata": {},
     "outputs": [],
     "prompt_number": 211
    },
    {
     "cell_type": "code",
     "collapsed": false,
     "input": [],
     "language": "python",
     "metadata": {},
     "outputs": [],
     "prompt_number": 137
    },
    {
     "cell_type": "code",
     "collapsed": false,
     "input": [],
     "language": "python",
     "metadata": {},
     "outputs": []
    }
   ],
   "metadata": {}
  }
 ]
}